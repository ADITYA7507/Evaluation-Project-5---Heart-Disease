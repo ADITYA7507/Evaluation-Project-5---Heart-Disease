{
 "cells": [
  {
   "cell_type": "markdown",
   "metadata": {},
   "source": [
    "# Importing required Libraries"
   ]
  },
  {
   "cell_type": "code",
   "execution_count": 637,
   "metadata": {},
   "outputs": [],
   "source": [
    "import warnings\n",
    "warnings.filterwarnings('ignore')"
   ]
  },
  {
   "cell_type": "markdown",
   "metadata": {},
   "source": [
    "# Loading Dataset"
   ]
  },
  {
   "cell_type": "code",
   "execution_count": 638,
   "metadata": {},
   "outputs": [
    {
     "data": {
      "text/html": [
       "<div>\n",
       "<style scoped>\n",
       "    .dataframe tbody tr th:only-of-type {\n",
       "        vertical-align: middle;\n",
       "    }\n",
       "\n",
       "    .dataframe tbody tr th {\n",
       "        vertical-align: top;\n",
       "    }\n",
       "\n",
       "    .dataframe thead th {\n",
       "        text-align: right;\n",
       "    }\n",
       "</style>\n",
       "<table border=\"1\" class=\"dataframe\">\n",
       "  <thead>\n",
       "    <tr style=\"text-align: right;\">\n",
       "      <th></th>\n",
       "      <th>#3(age)</th>\n",
       "      <th>#4(sex)</th>\n",
       "      <th>#9(cp)</th>\n",
       "      <th>#10(trestbps)</th>\n",
       "      <th>#12(chol)</th>\n",
       "      <th>#16(fbs)</th>\n",
       "      <th>#19(restecg)</th>\n",
       "      <th>#32(thalach)</th>\n",
       "      <th>#38(exang)</th>\n",
       "      <th>#40(oldpeak)</th>\n",
       "      <th>#41(slope)</th>\n",
       "      <th>#44(ca)</th>\n",
       "      <th>#51(thal)</th>\n",
       "      <th>#58 (num)(the predicted attribute)</th>\n",
       "    </tr>\n",
       "  </thead>\n",
       "  <tbody>\n",
       "    <tr>\n",
       "      <th>0</th>\n",
       "      <td>63</td>\n",
       "      <td>1</td>\n",
       "      <td>4</td>\n",
       "      <td>140.0</td>\n",
       "      <td>260.0</td>\n",
       "      <td>0.0</td>\n",
       "      <td>1</td>\n",
       "      <td>112.0</td>\n",
       "      <td>1.0</td>\n",
       "      <td>3.0</td>\n",
       "      <td>2.0</td>\n",
       "      <td>NaN</td>\n",
       "      <td>NaN</td>\n",
       "      <td>2</td>\n",
       "    </tr>\n",
       "    <tr>\n",
       "      <th>1</th>\n",
       "      <td>44</td>\n",
       "      <td>1</td>\n",
       "      <td>4</td>\n",
       "      <td>130.0</td>\n",
       "      <td>209.0</td>\n",
       "      <td>0.0</td>\n",
       "      <td>1</td>\n",
       "      <td>127.0</td>\n",
       "      <td>0.0</td>\n",
       "      <td>0.0</td>\n",
       "      <td>NaN</td>\n",
       "      <td>NaN</td>\n",
       "      <td>NaN</td>\n",
       "      <td>0</td>\n",
       "    </tr>\n",
       "    <tr>\n",
       "      <th>2</th>\n",
       "      <td>60</td>\n",
       "      <td>1</td>\n",
       "      <td>4</td>\n",
       "      <td>132.0</td>\n",
       "      <td>218.0</td>\n",
       "      <td>0.0</td>\n",
       "      <td>1</td>\n",
       "      <td>140.0</td>\n",
       "      <td>1.0</td>\n",
       "      <td>1.5</td>\n",
       "      <td>3.0</td>\n",
       "      <td>NaN</td>\n",
       "      <td>NaN</td>\n",
       "      <td>2</td>\n",
       "    </tr>\n",
       "    <tr>\n",
       "      <th>3</th>\n",
       "      <td>55</td>\n",
       "      <td>1</td>\n",
       "      <td>4</td>\n",
       "      <td>142.0</td>\n",
       "      <td>228.0</td>\n",
       "      <td>0.0</td>\n",
       "      <td>1</td>\n",
       "      <td>149.0</td>\n",
       "      <td>1.0</td>\n",
       "      <td>2.5</td>\n",
       "      <td>1.0</td>\n",
       "      <td>NaN</td>\n",
       "      <td>NaN</td>\n",
       "      <td>1</td>\n",
       "    </tr>\n",
       "    <tr>\n",
       "      <th>4</th>\n",
       "      <td>66</td>\n",
       "      <td>1</td>\n",
       "      <td>3</td>\n",
       "      <td>110.0</td>\n",
       "      <td>213.0</td>\n",
       "      <td>1.0</td>\n",
       "      <td>2</td>\n",
       "      <td>99.0</td>\n",
       "      <td>1.0</td>\n",
       "      <td>1.3</td>\n",
       "      <td>2.0</td>\n",
       "      <td>NaN</td>\n",
       "      <td>NaN</td>\n",
       "      <td>0</td>\n",
       "    </tr>\n",
       "  </tbody>\n",
       "</table>\n",
       "</div>"
      ],
      "text/plain": [
       "   #3(age)  #4(sex)  #9(cp)  #10(trestbps)  #12(chol)  #16(fbs)  #19(restecg)  \\\n",
       "0       63        1       4          140.0      260.0       0.0             1   \n",
       "1       44        1       4          130.0      209.0       0.0             1   \n",
       "2       60        1       4          132.0      218.0       0.0             1   \n",
       "3       55        1       4          142.0      228.0       0.0             1   \n",
       "4       66        1       3          110.0      213.0       1.0             2   \n",
       "\n",
       "   #32(thalach)  #38(exang)  #40(oldpeak)  #41(slope)  #44(ca)  #51(thal)  \\\n",
       "0         112.0         1.0           3.0         2.0      NaN        NaN   \n",
       "1         127.0         0.0           0.0         NaN      NaN        NaN   \n",
       "2         140.0         1.0           1.5         3.0      NaN        NaN   \n",
       "3         149.0         1.0           2.5         1.0      NaN        NaN   \n",
       "4          99.0         1.0           1.3         2.0      NaN        NaN   \n",
       "\n",
       "   #58 (num)(the predicted attribute)  \n",
       "0                                   2  \n",
       "1                                   0  \n",
       "2                                   2  \n",
       "3                                   1  \n",
       "4                                   0  "
      ]
     },
     "execution_count": 638,
     "metadata": {},
     "output_type": "execute_result"
    }
   ],
   "source": [
    "import pandas as pd\n",
    "data=pd.read_csv('heartdisease_data.csv',na_values='?',names=['#3(age)','#4(sex)','#9(cp)','#10(trestbps)','#12(chol)',\n",
    "                                                              '#16(fbs)','#19(restecg)','#32(thalach)','#38(exang)',\n",
    "                                                              '#40(oldpeak)','#41(slope)','#44(ca)','#51(thal)',\n",
    "                                                              '#58 (num)(the predicted attribute)'])\n",
    "df=pd.DataFrame(data)\n",
    "df.head()"
   ]
  },
  {
   "cell_type": "code",
   "execution_count": 639,
   "metadata": {},
   "outputs": [
    {
     "data": {
      "text/plain": [
       "(200, 14)"
      ]
     },
     "execution_count": 639,
     "metadata": {},
     "output_type": "execute_result"
    }
   ],
   "source": [
    "df.shape"
   ]
  },
  {
   "cell_type": "code",
   "execution_count": 640,
   "metadata": {},
   "outputs": [
    {
     "data": {
      "text/plain": [
       "#3(age)                                 int64\n",
       "#4(sex)                                 int64\n",
       "#9(cp)                                  int64\n",
       "#10(trestbps)                         float64\n",
       "#12(chol)                             float64\n",
       "#16(fbs)                              float64\n",
       "#19(restecg)                            int64\n",
       "#32(thalach)                          float64\n",
       "#38(exang)                            float64\n",
       "#40(oldpeak)                          float64\n",
       "#41(slope)                            float64\n",
       "#44(ca)                               float64\n",
       "#51(thal)                             float64\n",
       "#58 (num)(the predicted attribute)      int64\n",
       "dtype: object"
      ]
     },
     "execution_count": 640,
     "metadata": {},
     "output_type": "execute_result"
    }
   ],
   "source": [
    "df.dtypes"
   ]
  },
  {
   "cell_type": "code",
   "execution_count": 641,
   "metadata": {},
   "outputs": [
    {
     "data": {
      "text/plain": [
       "Index(['#3(age)', '#4(sex)', '#9(cp)', '#10(trestbps)', '#12(chol)',\n",
       "       '#16(fbs)', '#19(restecg)', '#32(thalach)', '#38(exang)',\n",
       "       '#40(oldpeak)', '#41(slope)', '#44(ca)', '#51(thal)',\n",
       "       '#58 (num)(the predicted attribute)'],\n",
       "      dtype='object')"
      ]
     },
     "execution_count": 641,
     "metadata": {},
     "output_type": "execute_result"
    }
   ],
   "source": [
    "df.columns"
   ]
  },
  {
   "cell_type": "code",
   "execution_count": 642,
   "metadata": {},
   "outputs": [
    {
     "name": "stdout",
     "output_type": "stream",
     "text": [
      "<class 'pandas.core.frame.DataFrame'>\n",
      "RangeIndex: 200 entries, 0 to 199\n",
      "Data columns (total 14 columns):\n",
      " #   Column                              Non-Null Count  Dtype  \n",
      "---  ------                              --------------  -----  \n",
      " 0   #3(age)                             200 non-null    int64  \n",
      " 1   #4(sex)                             200 non-null    int64  \n",
      " 2   #9(cp)                              200 non-null    int64  \n",
      " 3   #10(trestbps)                       144 non-null    float64\n",
      " 4   #12(chol)                           193 non-null    float64\n",
      " 5   #16(fbs)                            193 non-null    float64\n",
      " 6   #19(restecg)                        200 non-null    int64  \n",
      " 7   #32(thalach)                        147 non-null    float64\n",
      " 8   #38(exang)                          147 non-null    float64\n",
      " 9   #40(oldpeak)                        144 non-null    float64\n",
      " 10  #41(slope)                          98 non-null     float64\n",
      " 11  #44(ca)                             2 non-null      float64\n",
      " 12  #51(thal)                           34 non-null     float64\n",
      " 13  #58 (num)(the predicted attribute)  200 non-null    int64  \n",
      "dtypes: float64(9), int64(5)\n",
      "memory usage: 22.0 KB\n"
     ]
    }
   ],
   "source": [
    "df.info()"
   ]
  },
  {
   "cell_type": "markdown",
   "metadata": {},
   "source": [
    "# EDA Process"
   ]
  },
  {
   "cell_type": "code",
   "execution_count": 643,
   "metadata": {},
   "outputs": [
    {
     "data": {
      "text/html": [
       "<div>\n",
       "<style scoped>\n",
       "    .dataframe tbody tr th:only-of-type {\n",
       "        vertical-align: middle;\n",
       "    }\n",
       "\n",
       "    .dataframe tbody tr th {\n",
       "        vertical-align: top;\n",
       "    }\n",
       "\n",
       "    .dataframe thead th {\n",
       "        text-align: right;\n",
       "    }\n",
       "</style>\n",
       "<table border=\"1\" class=\"dataframe\">\n",
       "  <thead>\n",
       "    <tr style=\"text-align: right;\">\n",
       "      <th></th>\n",
       "      <th>#3(age)</th>\n",
       "      <th>#4(sex)</th>\n",
       "      <th>#9(cp)</th>\n",
       "      <th>#10(trestbps)</th>\n",
       "      <th>#12(chol)</th>\n",
       "      <th>#16(fbs)</th>\n",
       "      <th>#19(restecg)</th>\n",
       "      <th>#32(thalach)</th>\n",
       "      <th>#38(exang)</th>\n",
       "      <th>#40(oldpeak)</th>\n",
       "      <th>#41(slope)</th>\n",
       "      <th>#44(ca)</th>\n",
       "      <th>#51(thal)</th>\n",
       "      <th>#58 (num)(the predicted attribute)</th>\n",
       "    </tr>\n",
       "  </thead>\n",
       "  <tbody>\n",
       "    <tr>\n",
       "      <th>count</th>\n",
       "      <td>200.000000</td>\n",
       "      <td>200.000000</td>\n",
       "      <td>200.000000</td>\n",
       "      <td>144.000000</td>\n",
       "      <td>193.000000</td>\n",
       "      <td>193.000000</td>\n",
       "      <td>200.000000</td>\n",
       "      <td>147.000000</td>\n",
       "      <td>147.000000</td>\n",
       "      <td>144.000000</td>\n",
       "      <td>98.000000</td>\n",
       "      <td>2.0</td>\n",
       "      <td>34.000000</td>\n",
       "      <td>200.000000</td>\n",
       "    </tr>\n",
       "    <tr>\n",
       "      <th>mean</th>\n",
       "      <td>59.350000</td>\n",
       "      <td>0.970000</td>\n",
       "      <td>3.505000</td>\n",
       "      <td>133.763889</td>\n",
       "      <td>178.746114</td>\n",
       "      <td>0.352332</td>\n",
       "      <td>0.735000</td>\n",
       "      <td>122.795918</td>\n",
       "      <td>0.646259</td>\n",
       "      <td>1.320833</td>\n",
       "      <td>2.132653</td>\n",
       "      <td>0.0</td>\n",
       "      <td>6.294118</td>\n",
       "      <td>1.520000</td>\n",
       "    </tr>\n",
       "    <tr>\n",
       "      <th>std</th>\n",
       "      <td>7.811697</td>\n",
       "      <td>0.171015</td>\n",
       "      <td>0.795701</td>\n",
       "      <td>21.537733</td>\n",
       "      <td>114.035232</td>\n",
       "      <td>0.478939</td>\n",
       "      <td>0.683455</td>\n",
       "      <td>21.990328</td>\n",
       "      <td>0.479765</td>\n",
       "      <td>1.106236</td>\n",
       "      <td>0.667937</td>\n",
       "      <td>0.0</td>\n",
       "      <td>1.291685</td>\n",
       "      <td>1.219441</td>\n",
       "    </tr>\n",
       "    <tr>\n",
       "      <th>min</th>\n",
       "      <td>35.000000</td>\n",
       "      <td>0.000000</td>\n",
       "      <td>1.000000</td>\n",
       "      <td>0.000000</td>\n",
       "      <td>0.000000</td>\n",
       "      <td>0.000000</td>\n",
       "      <td>0.000000</td>\n",
       "      <td>69.000000</td>\n",
       "      <td>0.000000</td>\n",
       "      <td>-0.500000</td>\n",
       "      <td>1.000000</td>\n",
       "      <td>0.0</td>\n",
       "      <td>3.000000</td>\n",
       "      <td>0.000000</td>\n",
       "    </tr>\n",
       "    <tr>\n",
       "      <th>25%</th>\n",
       "      <td>55.000000</td>\n",
       "      <td>1.000000</td>\n",
       "      <td>3.000000</td>\n",
       "      <td>120.000000</td>\n",
       "      <td>0.000000</td>\n",
       "      <td>0.000000</td>\n",
       "      <td>0.000000</td>\n",
       "      <td>109.000000</td>\n",
       "      <td>0.000000</td>\n",
       "      <td>0.000000</td>\n",
       "      <td>2.000000</td>\n",
       "      <td>0.0</td>\n",
       "      <td>6.000000</td>\n",
       "      <td>0.000000</td>\n",
       "    </tr>\n",
       "    <tr>\n",
       "      <th>50%</th>\n",
       "      <td>60.000000</td>\n",
       "      <td>1.000000</td>\n",
       "      <td>4.000000</td>\n",
       "      <td>130.000000</td>\n",
       "      <td>216.000000</td>\n",
       "      <td>0.000000</td>\n",
       "      <td>1.000000</td>\n",
       "      <td>120.000000</td>\n",
       "      <td>1.000000</td>\n",
       "      <td>1.500000</td>\n",
       "      <td>2.000000</td>\n",
       "      <td>0.0</td>\n",
       "      <td>7.000000</td>\n",
       "      <td>1.000000</td>\n",
       "    </tr>\n",
       "    <tr>\n",
       "      <th>75%</th>\n",
       "      <td>64.000000</td>\n",
       "      <td>1.000000</td>\n",
       "      <td>4.000000</td>\n",
       "      <td>147.000000</td>\n",
       "      <td>258.000000</td>\n",
       "      <td>1.000000</td>\n",
       "      <td>1.000000</td>\n",
       "      <td>140.000000</td>\n",
       "      <td>1.000000</td>\n",
       "      <td>2.000000</td>\n",
       "      <td>3.000000</td>\n",
       "      <td>0.0</td>\n",
       "      <td>7.000000</td>\n",
       "      <td>3.000000</td>\n",
       "    </tr>\n",
       "    <tr>\n",
       "      <th>max</th>\n",
       "      <td>77.000000</td>\n",
       "      <td>1.000000</td>\n",
       "      <td>4.000000</td>\n",
       "      <td>190.000000</td>\n",
       "      <td>458.000000</td>\n",
       "      <td>1.000000</td>\n",
       "      <td>2.000000</td>\n",
       "      <td>180.000000</td>\n",
       "      <td>1.000000</td>\n",
       "      <td>4.000000</td>\n",
       "      <td>3.000000</td>\n",
       "      <td>0.0</td>\n",
       "      <td>7.000000</td>\n",
       "      <td>4.000000</td>\n",
       "    </tr>\n",
       "  </tbody>\n",
       "</table>\n",
       "</div>"
      ],
      "text/plain": [
       "          #3(age)     #4(sex)      #9(cp)  #10(trestbps)   #12(chol)  \\\n",
       "count  200.000000  200.000000  200.000000     144.000000  193.000000   \n",
       "mean    59.350000    0.970000    3.505000     133.763889  178.746114   \n",
       "std      7.811697    0.171015    0.795701      21.537733  114.035232   \n",
       "min     35.000000    0.000000    1.000000       0.000000    0.000000   \n",
       "25%     55.000000    1.000000    3.000000     120.000000    0.000000   \n",
       "50%     60.000000    1.000000    4.000000     130.000000  216.000000   \n",
       "75%     64.000000    1.000000    4.000000     147.000000  258.000000   \n",
       "max     77.000000    1.000000    4.000000     190.000000  458.000000   \n",
       "\n",
       "         #16(fbs)  #19(restecg)  #32(thalach)  #38(exang)  #40(oldpeak)  \\\n",
       "count  193.000000    200.000000    147.000000  147.000000    144.000000   \n",
       "mean     0.352332      0.735000    122.795918    0.646259      1.320833   \n",
       "std      0.478939      0.683455     21.990328    0.479765      1.106236   \n",
       "min      0.000000      0.000000     69.000000    0.000000     -0.500000   \n",
       "25%      0.000000      0.000000    109.000000    0.000000      0.000000   \n",
       "50%      0.000000      1.000000    120.000000    1.000000      1.500000   \n",
       "75%      1.000000      1.000000    140.000000    1.000000      2.000000   \n",
       "max      1.000000      2.000000    180.000000    1.000000      4.000000   \n",
       "\n",
       "       #41(slope)  #44(ca)  #51(thal)  #58 (num)(the predicted attribute)  \n",
       "count   98.000000      2.0  34.000000                          200.000000  \n",
       "mean     2.132653      0.0   6.294118                            1.520000  \n",
       "std      0.667937      0.0   1.291685                            1.219441  \n",
       "min      1.000000      0.0   3.000000                            0.000000  \n",
       "25%      2.000000      0.0   6.000000                            0.000000  \n",
       "50%      2.000000      0.0   7.000000                            1.000000  \n",
       "75%      3.000000      0.0   7.000000                            3.000000  \n",
       "max      3.000000      0.0   7.000000                            4.000000  "
      ]
     },
     "execution_count": 643,
     "metadata": {},
     "output_type": "execute_result"
    }
   ],
   "source": [
    "df.describe()"
   ]
  },
  {
   "cell_type": "markdown",
   "metadata": {},
   "source": [
    "There is not much difference between 75% and max in all columns. Less Outliers might have present.\n",
    "\n",
    "Also Median(50%) and Mean are close."
   ]
  },
  {
   "cell_type": "markdown",
   "metadata": {},
   "source": [
    "# Checking Null Values"
   ]
  },
  {
   "cell_type": "code",
   "execution_count": 644,
   "metadata": {},
   "outputs": [],
   "source": [
    "import numpy as np\n",
    "import seaborn as sns\n",
    "import matplotlib.pyplot as plt"
   ]
  },
  {
   "cell_type": "code",
   "execution_count": 645,
   "metadata": {},
   "outputs": [
    {
     "data": {
      "text/html": [
       "<div>\n",
       "<style scoped>\n",
       "    .dataframe tbody tr th:only-of-type {\n",
       "        vertical-align: middle;\n",
       "    }\n",
       "\n",
       "    .dataframe tbody tr th {\n",
       "        vertical-align: top;\n",
       "    }\n",
       "\n",
       "    .dataframe thead th {\n",
       "        text-align: right;\n",
       "    }\n",
       "</style>\n",
       "<table border=\"1\" class=\"dataframe\">\n",
       "  <thead>\n",
       "    <tr style=\"text-align: right;\">\n",
       "      <th></th>\n",
       "      <th>#3(age)</th>\n",
       "      <th>#4(sex)</th>\n",
       "      <th>#9(cp)</th>\n",
       "      <th>#10(trestbps)</th>\n",
       "      <th>#12(chol)</th>\n",
       "      <th>#16(fbs)</th>\n",
       "      <th>#19(restecg)</th>\n",
       "      <th>#32(thalach)</th>\n",
       "      <th>#38(exang)</th>\n",
       "      <th>#40(oldpeak)</th>\n",
       "      <th>#41(slope)</th>\n",
       "      <th>#44(ca)</th>\n",
       "      <th>#51(thal)</th>\n",
       "      <th>#58 (num)(the predicted attribute)</th>\n",
       "    </tr>\n",
       "  </thead>\n",
       "  <tbody>\n",
       "    <tr>\n",
       "      <th>0</th>\n",
       "      <td>False</td>\n",
       "      <td>False</td>\n",
       "      <td>False</td>\n",
       "      <td>False</td>\n",
       "      <td>False</td>\n",
       "      <td>False</td>\n",
       "      <td>False</td>\n",
       "      <td>False</td>\n",
       "      <td>False</td>\n",
       "      <td>False</td>\n",
       "      <td>False</td>\n",
       "      <td>True</td>\n",
       "      <td>True</td>\n",
       "      <td>False</td>\n",
       "    </tr>\n",
       "    <tr>\n",
       "      <th>1</th>\n",
       "      <td>False</td>\n",
       "      <td>False</td>\n",
       "      <td>False</td>\n",
       "      <td>False</td>\n",
       "      <td>False</td>\n",
       "      <td>False</td>\n",
       "      <td>False</td>\n",
       "      <td>False</td>\n",
       "      <td>False</td>\n",
       "      <td>False</td>\n",
       "      <td>True</td>\n",
       "      <td>True</td>\n",
       "      <td>True</td>\n",
       "      <td>False</td>\n",
       "    </tr>\n",
       "    <tr>\n",
       "      <th>2</th>\n",
       "      <td>False</td>\n",
       "      <td>False</td>\n",
       "      <td>False</td>\n",
       "      <td>False</td>\n",
       "      <td>False</td>\n",
       "      <td>False</td>\n",
       "      <td>False</td>\n",
       "      <td>False</td>\n",
       "      <td>False</td>\n",
       "      <td>False</td>\n",
       "      <td>False</td>\n",
       "      <td>True</td>\n",
       "      <td>True</td>\n",
       "      <td>False</td>\n",
       "    </tr>\n",
       "    <tr>\n",
       "      <th>3</th>\n",
       "      <td>False</td>\n",
       "      <td>False</td>\n",
       "      <td>False</td>\n",
       "      <td>False</td>\n",
       "      <td>False</td>\n",
       "      <td>False</td>\n",
       "      <td>False</td>\n",
       "      <td>False</td>\n",
       "      <td>False</td>\n",
       "      <td>False</td>\n",
       "      <td>False</td>\n",
       "      <td>True</td>\n",
       "      <td>True</td>\n",
       "      <td>False</td>\n",
       "    </tr>\n",
       "    <tr>\n",
       "      <th>4</th>\n",
       "      <td>False</td>\n",
       "      <td>False</td>\n",
       "      <td>False</td>\n",
       "      <td>False</td>\n",
       "      <td>False</td>\n",
       "      <td>False</td>\n",
       "      <td>False</td>\n",
       "      <td>False</td>\n",
       "      <td>False</td>\n",
       "      <td>False</td>\n",
       "      <td>False</td>\n",
       "      <td>True</td>\n",
       "      <td>True</td>\n",
       "      <td>False</td>\n",
       "    </tr>\n",
       "    <tr>\n",
       "      <th>...</th>\n",
       "      <td>...</td>\n",
       "      <td>...</td>\n",
       "      <td>...</td>\n",
       "      <td>...</td>\n",
       "      <td>...</td>\n",
       "      <td>...</td>\n",
       "      <td>...</td>\n",
       "      <td>...</td>\n",
       "      <td>...</td>\n",
       "      <td>...</td>\n",
       "      <td>...</td>\n",
       "      <td>...</td>\n",
       "      <td>...</td>\n",
       "      <td>...</td>\n",
       "    </tr>\n",
       "    <tr>\n",
       "      <th>195</th>\n",
       "      <td>False</td>\n",
       "      <td>False</td>\n",
       "      <td>False</td>\n",
       "      <td>False</td>\n",
       "      <td>False</td>\n",
       "      <td>False</td>\n",
       "      <td>False</td>\n",
       "      <td>False</td>\n",
       "      <td>False</td>\n",
       "      <td>False</td>\n",
       "      <td>True</td>\n",
       "      <td>True</td>\n",
       "      <td>True</td>\n",
       "      <td>False</td>\n",
       "    </tr>\n",
       "    <tr>\n",
       "      <th>196</th>\n",
       "      <td>False</td>\n",
       "      <td>False</td>\n",
       "      <td>False</td>\n",
       "      <td>True</td>\n",
       "      <td>False</td>\n",
       "      <td>False</td>\n",
       "      <td>False</td>\n",
       "      <td>True</td>\n",
       "      <td>True</td>\n",
       "      <td>True</td>\n",
       "      <td>True</td>\n",
       "      <td>True</td>\n",
       "      <td>True</td>\n",
       "      <td>False</td>\n",
       "    </tr>\n",
       "    <tr>\n",
       "      <th>197</th>\n",
       "      <td>False</td>\n",
       "      <td>False</td>\n",
       "      <td>False</td>\n",
       "      <td>False</td>\n",
       "      <td>False</td>\n",
       "      <td>False</td>\n",
       "      <td>False</td>\n",
       "      <td>False</td>\n",
       "      <td>False</td>\n",
       "      <td>False</td>\n",
       "      <td>True</td>\n",
       "      <td>True</td>\n",
       "      <td>False</td>\n",
       "      <td>False</td>\n",
       "    </tr>\n",
       "    <tr>\n",
       "      <th>198</th>\n",
       "      <td>False</td>\n",
       "      <td>False</td>\n",
       "      <td>False</td>\n",
       "      <td>True</td>\n",
       "      <td>False</td>\n",
       "      <td>False</td>\n",
       "      <td>False</td>\n",
       "      <td>True</td>\n",
       "      <td>True</td>\n",
       "      <td>True</td>\n",
       "      <td>True</td>\n",
       "      <td>True</td>\n",
       "      <td>True</td>\n",
       "      <td>False</td>\n",
       "    </tr>\n",
       "    <tr>\n",
       "      <th>199</th>\n",
       "      <td>False</td>\n",
       "      <td>False</td>\n",
       "      <td>False</td>\n",
       "      <td>False</td>\n",
       "      <td>False</td>\n",
       "      <td>False</td>\n",
       "      <td>False</td>\n",
       "      <td>False</td>\n",
       "      <td>False</td>\n",
       "      <td>False</td>\n",
       "      <td>True</td>\n",
       "      <td>True</td>\n",
       "      <td>True</td>\n",
       "      <td>False</td>\n",
       "    </tr>\n",
       "  </tbody>\n",
       "</table>\n",
       "<p>200 rows × 14 columns</p>\n",
       "</div>"
      ],
      "text/plain": [
       "     #3(age)  #4(sex)  #9(cp)  #10(trestbps)  #12(chol)  #16(fbs)  \\\n",
       "0      False    False   False          False      False     False   \n",
       "1      False    False   False          False      False     False   \n",
       "2      False    False   False          False      False     False   \n",
       "3      False    False   False          False      False     False   \n",
       "4      False    False   False          False      False     False   \n",
       "..       ...      ...     ...            ...        ...       ...   \n",
       "195    False    False   False          False      False     False   \n",
       "196    False    False   False           True      False     False   \n",
       "197    False    False   False          False      False     False   \n",
       "198    False    False   False           True      False     False   \n",
       "199    False    False   False          False      False     False   \n",
       "\n",
       "     #19(restecg)  #32(thalach)  #38(exang)  #40(oldpeak)  #41(slope)  \\\n",
       "0           False         False       False         False       False   \n",
       "1           False         False       False         False        True   \n",
       "2           False         False       False         False       False   \n",
       "3           False         False       False         False       False   \n",
       "4           False         False       False         False       False   \n",
       "..            ...           ...         ...           ...         ...   \n",
       "195         False         False       False         False        True   \n",
       "196         False          True        True          True        True   \n",
       "197         False         False       False         False        True   \n",
       "198         False          True        True          True        True   \n",
       "199         False         False       False         False        True   \n",
       "\n",
       "     #44(ca)  #51(thal)  #58 (num)(the predicted attribute)  \n",
       "0       True       True                               False  \n",
       "1       True       True                               False  \n",
       "2       True       True                               False  \n",
       "3       True       True                               False  \n",
       "4       True       True                               False  \n",
       "..       ...        ...                                 ...  \n",
       "195     True       True                               False  \n",
       "196     True       True                               False  \n",
       "197     True      False                               False  \n",
       "198     True       True                               False  \n",
       "199     True       True                               False  \n",
       "\n",
       "[200 rows x 14 columns]"
      ]
     },
     "execution_count": 645,
     "metadata": {},
     "output_type": "execute_result"
    }
   ],
   "source": [
    "df.isnull()"
   ]
  },
  {
   "cell_type": "code",
   "execution_count": 646,
   "metadata": {},
   "outputs": [
    {
     "data": {
      "text/plain": [
       "<matplotlib.axes._subplots.AxesSubplot at 0x1dd4e73d1f0>"
      ]
     },
     "execution_count": 646,
     "metadata": {},
     "output_type": "execute_result"
    },
    {
     "data": {
      "image/png": "[encoded data removed]",
      "text/plain": [
       "<Figure size 432x288 with 2 Axes>"
      ]
     },
     "metadata": {
      "needs_background": "light"
     },
     "output_type": "display_data"
    }
   ],
   "source": [
    "sns.heatmap(df.isnull())"
   ]
  },
  {
   "cell_type": "code",
   "execution_count": 647,
   "metadata": {},
   "outputs": [
    {
     "data": {
      "text/plain": [
       "#3(age)                                 0\n",
       "#4(sex)                                 0\n",
       "#9(cp)                                  0\n",
       "#10(trestbps)                          56\n",
       "#12(chol)                               7\n",
       "#16(fbs)                                7\n",
       "#19(restecg)                            0\n",
       "#32(thalach)                           53\n",
       "#38(exang)                             53\n",
       "#40(oldpeak)                           56\n",
       "#41(slope)                            102\n",
       "#44(ca)                               198\n",
       "#51(thal)                             166\n",
       "#58 (num)(the predicted attribute)      0\n",
       "dtype: int64"
      ]
     },
     "execution_count": 647,
     "metadata": {},
     "output_type": "execute_result"
    }
   ],
   "source": [
    "df.isnull().sum()"
   ]
  },
  {
   "cell_type": "markdown",
   "metadata": {},
   "source": [
    "There are many null values."
   ]
  },
  {
   "cell_type": "code",
   "execution_count": 648,
   "metadata": {},
   "outputs": [
    {
     "data": {
      "text/plain": [
       "(200, 14)"
      ]
     },
     "execution_count": 648,
     "metadata": {},
     "output_type": "execute_result"
    }
   ],
   "source": [
    "df.shape"
   ]
  },
  {
   "cell_type": "code",
   "execution_count": 649,
   "metadata": {},
   "outputs": [
    {
     "data": {
      "text/plain": [
       "<matplotlib.axes._subplots.AxesSubplot at 0x1dd4fdc7310>"
      ]
     },
     "execution_count": 649,
     "metadata": {},
     "output_type": "execute_result"
    },
    {
     "data": {
      "image/png": "[encoded data removed]",
      "text/plain": [
       "<Figure size 1080x720 with 2 Axes>"
      ]
     },
     "metadata": {
      "needs_background": "light"
     },
     "output_type": "display_data"
    }
   ],
   "source": [
    "plt.figure(figsize=(15,10))\n",
    "sns.heatmap(df.corr(),annot=True)"
   ]
  },
  {
   "cell_type": "markdown",
   "metadata": {},
   "source": [
    "There are 198 null values in #44(ca) column and total rows is 200. So only 2 #44(ca) present in the entire dataset. So we can drop this column.\n",
    "\n",
    "There is also 166 null values in #51(thal) column, and the correlation with the predicted value is very less as 0.084. Here, we also can drop this column as 166/200=83% values are null."
   ]
  },
  {
   "cell_type": "code",
   "execution_count": 650,
   "metadata": {},
   "outputs": [
    {
     "data": {
      "text/html": [
       "<div>\n",
       "<style scoped>\n",
       "    .dataframe tbody tr th:only-of-type {\n",
       "        vertical-align: middle;\n",
       "    }\n",
       "\n",
       "    .dataframe tbody tr th {\n",
       "        vertical-align: top;\n",
       "    }\n",
       "\n",
       "    .dataframe thead th {\n",
       "        text-align: right;\n",
       "    }\n",
       "</style>\n",
       "<table border=\"1\" class=\"dataframe\">\n",
       "  <thead>\n",
       "    <tr style=\"text-align: right;\">\n",
       "      <th></th>\n",
       "      <th>#3(age)</th>\n",
       "      <th>#4(sex)</th>\n",
       "      <th>#9(cp)</th>\n",
       "      <th>#10(trestbps)</th>\n",
       "      <th>#12(chol)</th>\n",
       "      <th>#16(fbs)</th>\n",
       "      <th>#19(restecg)</th>\n",
       "      <th>#32(thalach)</th>\n",
       "      <th>#38(exang)</th>\n",
       "      <th>#40(oldpeak)</th>\n",
       "      <th>#41(slope)</th>\n",
       "      <th>#58 (num)(the predicted attribute)</th>\n",
       "    </tr>\n",
       "  </thead>\n",
       "  <tbody>\n",
       "    <tr>\n",
       "      <th>0</th>\n",
       "      <td>63</td>\n",
       "      <td>1</td>\n",
       "      <td>4</td>\n",
       "      <td>140.0</td>\n",
       "      <td>260.0</td>\n",
       "      <td>0.0</td>\n",
       "      <td>1</td>\n",
       "      <td>112.0</td>\n",
       "      <td>1.0</td>\n",
       "      <td>3.0</td>\n",
       "      <td>2.0</td>\n",
       "      <td>2</td>\n",
       "    </tr>\n",
       "    <tr>\n",
       "      <th>1</th>\n",
       "      <td>44</td>\n",
       "      <td>1</td>\n",
       "      <td>4</td>\n",
       "      <td>130.0</td>\n",
       "      <td>209.0</td>\n",
       "      <td>0.0</td>\n",
       "      <td>1</td>\n",
       "      <td>127.0</td>\n",
       "      <td>0.0</td>\n",
       "      <td>0.0</td>\n",
       "      <td>NaN</td>\n",
       "      <td>0</td>\n",
       "    </tr>\n",
       "    <tr>\n",
       "      <th>2</th>\n",
       "      <td>60</td>\n",
       "      <td>1</td>\n",
       "      <td>4</td>\n",
       "      <td>132.0</td>\n",
       "      <td>218.0</td>\n",
       "      <td>0.0</td>\n",
       "      <td>1</td>\n",
       "      <td>140.0</td>\n",
       "      <td>1.0</td>\n",
       "      <td>1.5</td>\n",
       "      <td>3.0</td>\n",
       "      <td>2</td>\n",
       "    </tr>\n",
       "    <tr>\n",
       "      <th>3</th>\n",
       "      <td>55</td>\n",
       "      <td>1</td>\n",
       "      <td>4</td>\n",
       "      <td>142.0</td>\n",
       "      <td>228.0</td>\n",
       "      <td>0.0</td>\n",
       "      <td>1</td>\n",
       "      <td>149.0</td>\n",
       "      <td>1.0</td>\n",
       "      <td>2.5</td>\n",
       "      <td>1.0</td>\n",
       "      <td>1</td>\n",
       "    </tr>\n",
       "    <tr>\n",
       "      <th>4</th>\n",
       "      <td>66</td>\n",
       "      <td>1</td>\n",
       "      <td>3</td>\n",
       "      <td>110.0</td>\n",
       "      <td>213.0</td>\n",
       "      <td>1.0</td>\n",
       "      <td>2</td>\n",
       "      <td>99.0</td>\n",
       "      <td>1.0</td>\n",
       "      <td>1.3</td>\n",
       "      <td>2.0</td>\n",
       "      <td>0</td>\n",
       "    </tr>\n",
       "    <tr>\n",
       "      <th>...</th>\n",
       "      <td>...</td>\n",
       "      <td>...</td>\n",
       "      <td>...</td>\n",
       "      <td>...</td>\n",
       "      <td>...</td>\n",
       "      <td>...</td>\n",
       "      <td>...</td>\n",
       "      <td>...</td>\n",
       "      <td>...</td>\n",
       "      <td>...</td>\n",
       "      <td>...</td>\n",
       "      <td>...</td>\n",
       "    </tr>\n",
       "    <tr>\n",
       "      <th>195</th>\n",
       "      <td>54</td>\n",
       "      <td>0</td>\n",
       "      <td>4</td>\n",
       "      <td>127.0</td>\n",
       "      <td>333.0</td>\n",
       "      <td>1.0</td>\n",
       "      <td>1</td>\n",
       "      <td>154.0</td>\n",
       "      <td>0.0</td>\n",
       "      <td>0.0</td>\n",
       "      <td>NaN</td>\n",
       "      <td>1</td>\n",
       "    </tr>\n",
       "    <tr>\n",
       "      <th>196</th>\n",
       "      <td>62</td>\n",
       "      <td>1</td>\n",
       "      <td>1</td>\n",
       "      <td>NaN</td>\n",
       "      <td>139.0</td>\n",
       "      <td>0.0</td>\n",
       "      <td>1</td>\n",
       "      <td>NaN</td>\n",
       "      <td>NaN</td>\n",
       "      <td>NaN</td>\n",
       "      <td>NaN</td>\n",
       "      <td>0</td>\n",
       "    </tr>\n",
       "    <tr>\n",
       "      <th>197</th>\n",
       "      <td>55</td>\n",
       "      <td>1</td>\n",
       "      <td>4</td>\n",
       "      <td>122.0</td>\n",
       "      <td>223.0</td>\n",
       "      <td>1.0</td>\n",
       "      <td>1</td>\n",
       "      <td>100.0</td>\n",
       "      <td>0.0</td>\n",
       "      <td>0.0</td>\n",
       "      <td>NaN</td>\n",
       "      <td>2</td>\n",
       "    </tr>\n",
       "    <tr>\n",
       "      <th>198</th>\n",
       "      <td>58</td>\n",
       "      <td>1</td>\n",
       "      <td>4</td>\n",
       "      <td>NaN</td>\n",
       "      <td>385.0</td>\n",
       "      <td>1.0</td>\n",
       "      <td>2</td>\n",
       "      <td>NaN</td>\n",
       "      <td>NaN</td>\n",
       "      <td>NaN</td>\n",
       "      <td>NaN</td>\n",
       "      <td>0</td>\n",
       "    </tr>\n",
       "    <tr>\n",
       "      <th>199</th>\n",
       "      <td>62</td>\n",
       "      <td>1</td>\n",
       "      <td>2</td>\n",
       "      <td>120.0</td>\n",
       "      <td>254.0</td>\n",
       "      <td>0.0</td>\n",
       "      <td>2</td>\n",
       "      <td>93.0</td>\n",
       "      <td>1.0</td>\n",
       "      <td>0.0</td>\n",
       "      <td>NaN</td>\n",
       "      <td>1</td>\n",
       "    </tr>\n",
       "  </tbody>\n",
       "</table>\n",
       "<p>200 rows × 12 columns</p>\n",
       "</div>"
      ],
      "text/plain": [
       "     #3(age)  #4(sex)  #9(cp)  #10(trestbps)  #12(chol)  #16(fbs)  \\\n",
       "0         63        1       4          140.0      260.0       0.0   \n",
       "1         44        1       4          130.0      209.0       0.0   \n",
       "2         60        1       4          132.0      218.0       0.0   \n",
       "3         55        1       4          142.0      228.0       0.0   \n",
       "4         66        1       3          110.0      213.0       1.0   \n",
       "..       ...      ...     ...            ...        ...       ...   \n",
       "195       54        0       4          127.0      333.0       1.0   \n",
       "196       62        1       1            NaN      139.0       0.0   \n",
       "197       55        1       4          122.0      223.0       1.0   \n",
       "198       58        1       4            NaN      385.0       1.0   \n",
       "199       62        1       2          120.0      254.0       0.0   \n",
       "\n",
       "     #19(restecg)  #32(thalach)  #38(exang)  #40(oldpeak)  #41(slope)  \\\n",
       "0               1         112.0         1.0           3.0         2.0   \n",
       "1               1         127.0         0.0           0.0         NaN   \n",
       "2               1         140.0         1.0           1.5         3.0   \n",
       "3               1         149.0         1.0           2.5         1.0   \n",
       "4               2          99.0         1.0           1.3         2.0   \n",
       "..            ...           ...         ...           ...         ...   \n",
       "195             1         154.0         0.0           0.0         NaN   \n",
       "196             1           NaN         NaN           NaN         NaN   \n",
       "197             1         100.0         0.0           0.0         NaN   \n",
       "198             2           NaN         NaN           NaN         NaN   \n",
       "199             2          93.0         1.0           0.0         NaN   \n",
       "\n",
       "     #58 (num)(the predicted attribute)  \n",
       "0                                     2  \n",
       "1                                     0  \n",
       "2                                     2  \n",
       "3                                     1  \n",
       "4                                     0  \n",
       "..                                  ...  \n",
       "195                                   1  \n",
       "196                                   0  \n",
       "197                                   2  \n",
       "198                                   0  \n",
       "199                                   1  \n",
       "\n",
       "[200 rows x 12 columns]"
      ]
     },
     "execution_count": 650,
     "metadata": {},
     "output_type": "execute_result"
    }
   ],
   "source": [
    "df.drop(['#44(ca)','#51(thal)'],axis=1,inplace=True)\n",
    "df"
   ]
  },
  {
   "cell_type": "markdown",
   "metadata": {},
   "source": [
    "As all the na values are numeric, we can take median of columns to replace the null values"
   ]
  },
  {
   "cell_type": "code",
   "execution_count": 651,
   "metadata": {},
   "outputs": [],
   "source": [
    "for col in ['#10(trestbps)','#12(chol)','#16(fbs)','#32(thalach)','#38(exang)','#40(oldpeak)','#41(slope)']:\n",
    "    df[col].fillna(value=df[col].median(),inplace=True)"
   ]
  },
  {
   "cell_type": "code",
   "execution_count": 652,
   "metadata": {},
   "outputs": [
    {
     "data": {
      "text/html": [
       "<div>\n",
       "<style scoped>\n",
       "    .dataframe tbody tr th:only-of-type {\n",
       "        vertical-align: middle;\n",
       "    }\n",
       "\n",
       "    .dataframe tbody tr th {\n",
       "        vertical-align: top;\n",
       "    }\n",
       "\n",
       "    .dataframe thead th {\n",
       "        text-align: right;\n",
       "    }\n",
       "</style>\n",
       "<table border=\"1\" class=\"dataframe\">\n",
       "  <thead>\n",
       "    <tr style=\"text-align: right;\">\n",
       "      <th></th>\n",
       "      <th>#3(age)</th>\n",
       "      <th>#4(sex)</th>\n",
       "      <th>#9(cp)</th>\n",
       "      <th>#10(trestbps)</th>\n",
       "      <th>#12(chol)</th>\n",
       "      <th>#16(fbs)</th>\n",
       "      <th>#19(restecg)</th>\n",
       "      <th>#32(thalach)</th>\n",
       "      <th>#38(exang)</th>\n",
       "      <th>#40(oldpeak)</th>\n",
       "      <th>#41(slope)</th>\n",
       "      <th>#58 (num)(the predicted attribute)</th>\n",
       "    </tr>\n",
       "  </thead>\n",
       "  <tbody>\n",
       "    <tr>\n",
       "      <th>0</th>\n",
       "      <td>63</td>\n",
       "      <td>1</td>\n",
       "      <td>4</td>\n",
       "      <td>140.0</td>\n",
       "      <td>260.0</td>\n",
       "      <td>0.0</td>\n",
       "      <td>1</td>\n",
       "      <td>112.0</td>\n",
       "      <td>1.0</td>\n",
       "      <td>3.0</td>\n",
       "      <td>2.0</td>\n",
       "      <td>2</td>\n",
       "    </tr>\n",
       "    <tr>\n",
       "      <th>1</th>\n",
       "      <td>44</td>\n",
       "      <td>1</td>\n",
       "      <td>4</td>\n",
       "      <td>130.0</td>\n",
       "      <td>209.0</td>\n",
       "      <td>0.0</td>\n",
       "      <td>1</td>\n",
       "      <td>127.0</td>\n",
       "      <td>0.0</td>\n",
       "      <td>0.0</td>\n",
       "      <td>2.0</td>\n",
       "      <td>0</td>\n",
       "    </tr>\n",
       "    <tr>\n",
       "      <th>2</th>\n",
       "      <td>60</td>\n",
       "      <td>1</td>\n",
       "      <td>4</td>\n",
       "      <td>132.0</td>\n",
       "      <td>218.0</td>\n",
       "      <td>0.0</td>\n",
       "      <td>1</td>\n",
       "      <td>140.0</td>\n",
       "      <td>1.0</td>\n",
       "      <td>1.5</td>\n",
       "      <td>3.0</td>\n",
       "      <td>2</td>\n",
       "    </tr>\n",
       "    <tr>\n",
       "      <th>3</th>\n",
       "      <td>55</td>\n",
       "      <td>1</td>\n",
       "      <td>4</td>\n",
       "      <td>142.0</td>\n",
       "      <td>228.0</td>\n",
       "      <td>0.0</td>\n",
       "      <td>1</td>\n",
       "      <td>149.0</td>\n",
       "      <td>1.0</td>\n",
       "      <td>2.5</td>\n",
       "      <td>1.0</td>\n",
       "      <td>1</td>\n",
       "    </tr>\n",
       "    <tr>\n",
       "      <th>4</th>\n",
       "      <td>66</td>\n",
       "      <td>1</td>\n",
       "      <td>3</td>\n",
       "      <td>110.0</td>\n",
       "      <td>213.0</td>\n",
       "      <td>1.0</td>\n",
       "      <td>2</td>\n",
       "      <td>99.0</td>\n",
       "      <td>1.0</td>\n",
       "      <td>1.3</td>\n",
       "      <td>2.0</td>\n",
       "      <td>0</td>\n",
       "    </tr>\n",
       "    <tr>\n",
       "      <th>...</th>\n",
       "      <td>...</td>\n",
       "      <td>...</td>\n",
       "      <td>...</td>\n",
       "      <td>...</td>\n",
       "      <td>...</td>\n",
       "      <td>...</td>\n",
       "      <td>...</td>\n",
       "      <td>...</td>\n",
       "      <td>...</td>\n",
       "      <td>...</td>\n",
       "      <td>...</td>\n",
       "      <td>...</td>\n",
       "    </tr>\n",
       "    <tr>\n",
       "      <th>195</th>\n",
       "      <td>54</td>\n",
       "      <td>0</td>\n",
       "      <td>4</td>\n",
       "      <td>127.0</td>\n",
       "      <td>333.0</td>\n",
       "      <td>1.0</td>\n",
       "      <td>1</td>\n",
       "      <td>154.0</td>\n",
       "      <td>0.0</td>\n",
       "      <td>0.0</td>\n",
       "      <td>2.0</td>\n",
       "      <td>1</td>\n",
       "    </tr>\n",
       "    <tr>\n",
       "      <th>196</th>\n",
       "      <td>62</td>\n",
       "      <td>1</td>\n",
       "      <td>1</td>\n",
       "      <td>130.0</td>\n",
       "      <td>139.0</td>\n",
       "      <td>0.0</td>\n",
       "      <td>1</td>\n",
       "      <td>120.0</td>\n",
       "      <td>1.0</td>\n",
       "      <td>1.5</td>\n",
       "      <td>2.0</td>\n",
       "      <td>0</td>\n",
       "    </tr>\n",
       "    <tr>\n",
       "      <th>197</th>\n",
       "      <td>55</td>\n",
       "      <td>1</td>\n",
       "      <td>4</td>\n",
       "      <td>122.0</td>\n",
       "      <td>223.0</td>\n",
       "      <td>1.0</td>\n",
       "      <td>1</td>\n",
       "      <td>100.0</td>\n",
       "      <td>0.0</td>\n",
       "      <td>0.0</td>\n",
       "      <td>2.0</td>\n",
       "      <td>2</td>\n",
       "    </tr>\n",
       "    <tr>\n",
       "      <th>198</th>\n",
       "      <td>58</td>\n",
       "      <td>1</td>\n",
       "      <td>4</td>\n",
       "      <td>130.0</td>\n",
       "      <td>385.0</td>\n",
       "      <td>1.0</td>\n",
       "      <td>2</td>\n",
       "      <td>120.0</td>\n",
       "      <td>1.0</td>\n",
       "      <td>1.5</td>\n",
       "      <td>2.0</td>\n",
       "      <td>0</td>\n",
       "    </tr>\n",
       "    <tr>\n",
       "      <th>199</th>\n",
       "      <td>62</td>\n",
       "      <td>1</td>\n",
       "      <td>2</td>\n",
       "      <td>120.0</td>\n",
       "      <td>254.0</td>\n",
       "      <td>0.0</td>\n",
       "      <td>2</td>\n",
       "      <td>93.0</td>\n",
       "      <td>1.0</td>\n",
       "      <td>0.0</td>\n",
       "      <td>2.0</td>\n",
       "      <td>1</td>\n",
       "    </tr>\n",
       "  </tbody>\n",
       "</table>\n",
       "<p>200 rows × 12 columns</p>\n",
       "</div>"
      ],
      "text/plain": [
       "     #3(age)  #4(sex)  #9(cp)  #10(trestbps)  #12(chol)  #16(fbs)  \\\n",
       "0         63        1       4          140.0      260.0       0.0   \n",
       "1         44        1       4          130.0      209.0       0.0   \n",
       "2         60        1       4          132.0      218.0       0.0   \n",
       "3         55        1       4          142.0      228.0       0.0   \n",
       "4         66        1       3          110.0      213.0       1.0   \n",
       "..       ...      ...     ...            ...        ...       ...   \n",
       "195       54        0       4          127.0      333.0       1.0   \n",
       "196       62        1       1          130.0      139.0       0.0   \n",
       "197       55        1       4          122.0      223.0       1.0   \n",
       "198       58        1       4          130.0      385.0       1.0   \n",
       "199       62        1       2          120.0      254.0       0.0   \n",
       "\n",
       "     #19(restecg)  #32(thalach)  #38(exang)  #40(oldpeak)  #41(slope)  \\\n",
       "0               1         112.0         1.0           3.0         2.0   \n",
       "1               1         127.0         0.0           0.0         2.0   \n",
       "2               1         140.0         1.0           1.5         3.0   \n",
       "3               1         149.0         1.0           2.5         1.0   \n",
       "4               2          99.0         1.0           1.3         2.0   \n",
       "..            ...           ...         ...           ...         ...   \n",
       "195             1         154.0         0.0           0.0         2.0   \n",
       "196             1         120.0         1.0           1.5         2.0   \n",
       "197             1         100.0         0.0           0.0         2.0   \n",
       "198             2         120.0         1.0           1.5         2.0   \n",
       "199             2          93.0         1.0           0.0         2.0   \n",
       "\n",
       "     #58 (num)(the predicted attribute)  \n",
       "0                                     2  \n",
       "1                                     0  \n",
       "2                                     2  \n",
       "3                                     1  \n",
       "4                                     0  \n",
       "..                                  ...  \n",
       "195                                   1  \n",
       "196                                   0  \n",
       "197                                   2  \n",
       "198                                   0  \n",
       "199                                   1  \n",
       "\n",
       "[200 rows x 12 columns]"
      ]
     },
     "execution_count": 652,
     "metadata": {},
     "output_type": "execute_result"
    }
   ],
   "source": [
    "df"
   ]
  },
  {
   "cell_type": "code",
   "execution_count": 653,
   "metadata": {},
   "outputs": [
    {
     "data": {
      "text/plain": [
       "#3(age)                               0\n",
       "#4(sex)                               0\n",
       "#9(cp)                                0\n",
       "#10(trestbps)                         0\n",
       "#12(chol)                             0\n",
       "#16(fbs)                              0\n",
       "#19(restecg)                          0\n",
       "#32(thalach)                          0\n",
       "#38(exang)                            0\n",
       "#40(oldpeak)                          0\n",
       "#41(slope)                            0\n",
       "#58 (num)(the predicted attribute)    0\n",
       "dtype: int64"
      ]
     },
     "execution_count": 653,
     "metadata": {},
     "output_type": "execute_result"
    }
   ],
   "source": [
    "df.isnull().sum()"
   ]
  },
  {
   "cell_type": "markdown",
   "metadata": {},
   "source": [
    "Now Dataset has no null values."
   ]
  },
  {
   "cell_type": "markdown",
   "metadata": {},
   "source": [
    "# Univariate Analysis"
   ]
  },
  {
   "cell_type": "code",
   "execution_count": 654,
   "metadata": {},
   "outputs": [
    {
     "data": {
      "image/png": "[encoded data removed]",
      "text/plain": [
       "<Figure size 1080x360 with 1 Axes>"
      ]
     },
     "metadata": {
      "needs_background": "light"
     },
     "output_type": "display_data"
    }
   ],
   "source": [
    "plt.figure(figsize=(15,5))\n",
    "sns.countplot(x='#3(age)',data=df)\n",
    "plt.title('age')\n",
    "plt.show()"
   ]
  },
  {
   "cell_type": "markdown",
   "metadata": {},
   "source": [
    "Observation:\n",
    "\n",
    "The age group between 51-69 has heart diseases in higher rate."
   ]
  },
  {
   "cell_type": "code",
   "execution_count": 655,
   "metadata": {},
   "outputs": [
    {
     "data": {
      "image/png": "[encoded data removed]",
      "text/plain": [
       "<Figure size 432x288 with 1 Axes>"
      ]
     },
     "metadata": {
      "needs_background": "light"
     },
     "output_type": "display_data"
    }
   ],
   "source": [
    "sns.countplot(x='#4(sex)',data=df)\n",
    "plt.title('sex')\n",
    "plt.show()"
   ]
  },
  {
   "cell_type": "markdown",
   "metadata": {},
   "source": [
    "Observation:\n",
    "\n",
    "As it is not given 0 and 1 specified which gender. One gender group which is noted as 1 has number of heart diseases in this dataset."
   ]
  },
  {
   "cell_type": "markdown",
   "metadata": {},
   "source": [
    "# Bivariate Analysis"
   ]
  },
  {
   "cell_type": "code",
   "execution_count": 656,
   "metadata": {},
   "outputs": [
    {
     "data": {
      "image/png": "[encoded data removed]",
      "text/plain": [
       "<Figure size 432x288 with 1 Axes>"
      ]
     },
     "metadata": {
      "needs_background": "light"
     },
     "output_type": "display_data"
    }
   ],
   "source": [
    "sns.scatterplot(x=df['#3(age)'],y=df['#58 (num)(the predicted attribute)'],data=df)\n",
    "plt.title('#3(age) vs #58 (num)(the predicted attribute)')\n",
    "plt.show()"
   ]
  },
  {
   "cell_type": "markdown",
   "metadata": {},
   "source": [
    "Observation:\n",
    "\n",
    "Ages more than 50 has chances of higher level of heart diseases."
   ]
  },
  {
   "cell_type": "code",
   "execution_count": 657,
   "metadata": {},
   "outputs": [
    {
     "data": {
      "image/png": "[encoded data removed]",
      "text/plain": [
       "<Figure size 432x288 with 1 Axes>"
      ]
     },
     "metadata": {
      "needs_background": "light"
     },
     "output_type": "display_data"
    }
   ],
   "source": [
    "sns.scatterplot(x=df['#4(sex)'],y=df['#58 (num)(the predicted attribute)'],data=df)\n",
    "plt.title('#4(sex) vs #58 (num)(the predicted attribute)')\n",
    "plt.show()"
   ]
  },
  {
   "cell_type": "markdown",
   "metadata": {},
   "source": [
    "Observation:\n",
    "\n",
    "The Gender denoted as 1 has high level Heart Diseases."
   ]
  },
  {
   "cell_type": "code",
   "execution_count": 658,
   "metadata": {},
   "outputs": [
    {
     "data": {
      "image/png": "[encoded data removed]",
      "text/plain": [
       "<Figure size 432x288 with 1 Axes>"
      ]
     },
     "metadata": {
      "needs_background": "light"
     },
     "output_type": "display_data"
    }
   ],
   "source": [
    "sns.scatterplot(x=df['#10(trestbps)'],y=df['#58 (num)(the predicted attribute)'],data=df)\n",
    "plt.title('#10(trestbps) vs #58 (num)(the predicted attribute)')\n",
    "plt.show()"
   ]
  },
  {
   "cell_type": "markdown",
   "metadata": {},
   "source": [
    "Observation:\n",
    "\n",
    "Higher trestbps ie 100-175, the Leevel of Heart Disease increased."
   ]
  },
  {
   "cell_type": "code",
   "execution_count": 659,
   "metadata": {},
   "outputs": [
    {
     "data": {
      "image/png": "[encoded data removed]",
      "text/plain": [
       "<Figure size 432x288 with 1 Axes>"
      ]
     },
     "metadata": {
      "needs_background": "light"
     },
     "output_type": "display_data"
    }
   ],
   "source": [
    "sns.scatterplot(x=df['#12(chol)'],y=df['#58 (num)(the predicted attribute)'],data=df)\n",
    "plt.title('#12(chol) vs #58 (num)(the predicted attribute)')\n",
    "plt.show()"
   ]
  },
  {
   "cell_type": "markdown",
   "metadata": {},
   "source": [
    "Observation:\n",
    "\n",
    "Those having cholestrol level above 200, they have high level of Heart Diseases."
   ]
  },
  {
   "cell_type": "markdown",
   "metadata": {},
   "source": [
    "There are some more medical parameters the relationship is shown as following codes."
   ]
  },
  {
   "cell_type": "code",
   "execution_count": 660,
   "metadata": {},
   "outputs": [
    {
     "data": {
      "image/png": "[encoded data removed]",
      "text/plain": [
       "<Figure size 432x288 with 1 Axes>"
      ]
     },
     "metadata": {
      "needs_background": "light"
     },
     "output_type": "display_data"
    }
   ],
   "source": [
    "sns.scatterplot(x=df['#16(fbs)'],y=df['#58 (num)(the predicted attribute)'],data=df)\n",
    "plt.title('#16(fbs) vs #58 (num)(the predicted attribute)')\n",
    "plt.show()"
   ]
  },
  {
   "cell_type": "code",
   "execution_count": 661,
   "metadata": {},
   "outputs": [
    {
     "data": {
      "image/png": "[encoded data removed]",
      "text/plain": [
       "<Figure size 432x288 with 1 Axes>"
      ]
     },
     "metadata": {
      "needs_background": "light"
     },
     "output_type": "display_data"
    }
   ],
   "source": [
    "sns.scatterplot(x=df['#19(restecg)'],y=df['#58 (num)(the predicted attribute)'],data=df)\n",
    "plt.title('#19(restecg) vs #58 (num)(the predicted attribute)')\n",
    "plt.show()"
   ]
  },
  {
   "cell_type": "code",
   "execution_count": 662,
   "metadata": {},
   "outputs": [
    {
     "data": {
      "image/png": "[encoded data removed]",
      "text/plain": [
       "<Figure size 432x288 with 1 Axes>"
      ]
     },
     "metadata": {
      "needs_background": "light"
     },
     "output_type": "display_data"
    }
   ],
   "source": [
    "sns.scatterplot(x=df['#32(thalach)'],y=df['#58 (num)(the predicted attribute)'],data=df)\n",
    "plt.title('#32(thalach) vs #58 (num)(the predicted attribute)')\n",
    "plt.show()"
   ]
  },
  {
   "cell_type": "code",
   "execution_count": 663,
   "metadata": {},
   "outputs": [
    {
     "data": {
      "image/png": "[encoded data removed]",
      "text/plain": [
       "<Figure size 432x288 with 1 Axes>"
      ]
     },
     "metadata": {
      "needs_background": "light"
     },
     "output_type": "display_data"
    }
   ],
   "source": [
    "sns.scatterplot(x=df['#38(exang)'],y=df['#58 (num)(the predicted attribute)'],data=df)\n",
    "plt.title('#38(exang) vs #58 (num)(the predicted attribute)')\n",
    "plt.show()"
   ]
  },
  {
   "cell_type": "code",
   "execution_count": 664,
   "metadata": {},
   "outputs": [
    {
     "data": {
      "image/png": "[encoded data removed]",
      "text/plain": [
       "<Figure size 432x288 with 1 Axes>"
      ]
     },
     "metadata": {
      "needs_background": "light"
     },
     "output_type": "display_data"
    }
   ],
   "source": [
    "sns.scatterplot(x=df['#40(oldpeak)'],y=df['#58 (num)(the predicted attribute)'],data=df)\n",
    "plt.title('#40(oldpeak) vs #58 (num)(the predicted attribute)')\n",
    "plt.show()"
   ]
  },
  {
   "cell_type": "code",
   "execution_count": 665,
   "metadata": {},
   "outputs": [
    {
     "data": {
      "image/png": "[encoded data removed]",
      "text/plain": [
       "<Figure size 432x288 with 1 Axes>"
      ]
     },
     "metadata": {
      "needs_background": "light"
     },
     "output_type": "display_data"
    }
   ],
   "source": [
    "sns.scatterplot(x=df['#41(slope)'],y=df['#58 (num)(the predicted attribute)'],data=df)\n",
    "plt.title('#41(slope) vs #58 (num)(the predicted attribute)')\n",
    "plt.show()"
   ]
  },
  {
   "cell_type": "markdown",
   "metadata": {},
   "source": [
    "# Multivariate Analysis"
   ]
  },
  {
   "cell_type": "markdown",
   "metadata": {},
   "source": [
    "# Correlation"
   ]
  },
  {
   "cell_type": "code",
   "execution_count": 666,
   "metadata": {},
   "outputs": [
    {
     "data": {
      "text/html": [
       "<div>\n",
       "<style scoped>\n",
       "    .dataframe tbody tr th:only-of-type {\n",
       "        vertical-align: middle;\n",
       "    }\n",
       "\n",
       "    .dataframe tbody tr th {\n",
       "        vertical-align: top;\n",
       "    }\n",
       "\n",
       "    .dataframe thead th {\n",
       "        text-align: right;\n",
       "    }\n",
       "</style>\n",
       "<table border=\"1\" class=\"dataframe\">\n",
       "  <thead>\n",
       "    <tr style=\"text-align: right;\">\n",
       "      <th></th>\n",
       "      <th>#3(age)</th>\n",
       "      <th>#4(sex)</th>\n",
       "      <th>#9(cp)</th>\n",
       "      <th>#10(trestbps)</th>\n",
       "      <th>#12(chol)</th>\n",
       "      <th>#16(fbs)</th>\n",
       "      <th>#19(restecg)</th>\n",
       "      <th>#32(thalach)</th>\n",
       "      <th>#38(exang)</th>\n",
       "      <th>#40(oldpeak)</th>\n",
       "      <th>#41(slope)</th>\n",
       "      <th>#58 (num)(the predicted attribute)</th>\n",
       "    </tr>\n",
       "  </thead>\n",
       "  <tbody>\n",
       "    <tr>\n",
       "      <th>#3(age)</th>\n",
       "      <td>1.000000</td>\n",
       "      <td>0.034230</td>\n",
       "      <td>-0.038280</td>\n",
       "      <td>0.179566</td>\n",
       "      <td>0.069953</td>\n",
       "      <td>0.135728</td>\n",
       "      <td>0.002400</td>\n",
       "      <td>-0.150146</td>\n",
       "      <td>0.129027</td>\n",
       "      <td>0.156191</td>\n",
       "      <td>0.107135</td>\n",
       "      <td>0.287289</td>\n",
       "    </tr>\n",
       "    <tr>\n",
       "      <th>#4(sex)</th>\n",
       "      <td>0.034230</td>\n",
       "      <td>1.000000</td>\n",
       "      <td>0.038036</td>\n",
       "      <td>0.008429</td>\n",
       "      <td>-0.093922</td>\n",
       "      <td>-0.059400</td>\n",
       "      <td>0.060621</td>\n",
       "      <td>-0.004156</td>\n",
       "      <td>0.029402</td>\n",
       "      <td>0.100713</td>\n",
       "      <td>0.086709</td>\n",
       "      <td>0.147470</td>\n",
       "    </tr>\n",
       "    <tr>\n",
       "      <th>#9(cp)</th>\n",
       "      <td>-0.038280</td>\n",
       "      <td>0.038036</td>\n",
       "      <td>1.000000</td>\n",
       "      <td>0.094128</td>\n",
       "      <td>0.068766</td>\n",
       "      <td>-0.044416</td>\n",
       "      <td>0.034790</td>\n",
       "      <td>-0.108585</td>\n",
       "      <td>0.089904</td>\n",
       "      <td>0.015627</td>\n",
       "      <td>0.059460</td>\n",
       "      <td>0.168210</td>\n",
       "    </tr>\n",
       "    <tr>\n",
       "      <th>#10(trestbps)</th>\n",
       "      <td>0.179566</td>\n",
       "      <td>0.008429</td>\n",
       "      <td>0.094128</td>\n",
       "      <td>1.000000</td>\n",
       "      <td>0.142605</td>\n",
       "      <td>0.185084</td>\n",
       "      <td>0.088871</td>\n",
       "      <td>-0.005253</td>\n",
       "      <td>0.173210</td>\n",
       "      <td>0.103139</td>\n",
       "      <td>0.088883</td>\n",
       "      <td>0.145444</td>\n",
       "    </tr>\n",
       "    <tr>\n",
       "      <th>#12(chol)</th>\n",
       "      <td>0.069953</td>\n",
       "      <td>-0.093922</td>\n",
       "      <td>0.068766</td>\n",
       "      <td>0.142605</td>\n",
       "      <td>1.000000</td>\n",
       "      <td>0.175249</td>\n",
       "      <td>0.028739</td>\n",
       "      <td>-0.044767</td>\n",
       "      <td>0.116148</td>\n",
       "      <td>0.015728</td>\n",
       "      <td>0.041670</td>\n",
       "      <td>0.079529</td>\n",
       "    </tr>\n",
       "    <tr>\n",
       "      <th>#16(fbs)</th>\n",
       "      <td>0.135728</td>\n",
       "      <td>-0.059400</td>\n",
       "      <td>-0.044416</td>\n",
       "      <td>0.185084</td>\n",
       "      <td>0.175249</td>\n",
       "      <td>1.000000</td>\n",
       "      <td>0.170616</td>\n",
       "      <td>0.033219</td>\n",
       "      <td>-0.176144</td>\n",
       "      <td>-0.096999</td>\n",
       "      <td>-0.009435</td>\n",
       "      <td>0.048940</td>\n",
       "    </tr>\n",
       "    <tr>\n",
       "      <th>#19(restecg)</th>\n",
       "      <td>0.002400</td>\n",
       "      <td>0.060621</td>\n",
       "      <td>0.034790</td>\n",
       "      <td>0.088871</td>\n",
       "      <td>0.028739</td>\n",
       "      <td>0.170616</td>\n",
       "      <td>1.000000</td>\n",
       "      <td>0.010094</td>\n",
       "      <td>-0.063203</td>\n",
       "      <td>-0.102623</td>\n",
       "      <td>-0.039881</td>\n",
       "      <td>-0.032800</td>\n",
       "    </tr>\n",
       "    <tr>\n",
       "      <th>#32(thalach)</th>\n",
       "      <td>-0.150146</td>\n",
       "      <td>-0.004156</td>\n",
       "      <td>-0.108585</td>\n",
       "      <td>-0.005253</td>\n",
       "      <td>-0.044767</td>\n",
       "      <td>0.033219</td>\n",
       "      <td>0.010094</td>\n",
       "      <td>1.000000</td>\n",
       "      <td>-0.093316</td>\n",
       "      <td>0.171803</td>\n",
       "      <td>-0.101567</td>\n",
       "      <td>-0.073072</td>\n",
       "    </tr>\n",
       "    <tr>\n",
       "      <th>#38(exang)</th>\n",
       "      <td>0.129027</td>\n",
       "      <td>0.029402</td>\n",
       "      <td>0.089904</td>\n",
       "      <td>0.173210</td>\n",
       "      <td>0.116148</td>\n",
       "      <td>-0.176144</td>\n",
       "      <td>-0.063203</td>\n",
       "      <td>-0.093316</td>\n",
       "      <td>1.000000</td>\n",
       "      <td>0.315578</td>\n",
       "      <td>0.106259</td>\n",
       "      <td>0.206541</td>\n",
       "    </tr>\n",
       "    <tr>\n",
       "      <th>#40(oldpeak)</th>\n",
       "      <td>0.156191</td>\n",
       "      <td>0.100713</td>\n",
       "      <td>0.015627</td>\n",
       "      <td>0.103139</td>\n",
       "      <td>0.015728</td>\n",
       "      <td>-0.096999</td>\n",
       "      <td>-0.102623</td>\n",
       "      <td>0.171803</td>\n",
       "      <td>0.315578</td>\n",
       "      <td>1.000000</td>\n",
       "      <td>0.284230</td>\n",
       "      <td>0.366526</td>\n",
       "    </tr>\n",
       "    <tr>\n",
       "      <th>#41(slope)</th>\n",
       "      <td>0.107135</td>\n",
       "      <td>0.086709</td>\n",
       "      <td>0.059460</td>\n",
       "      <td>0.088883</td>\n",
       "      <td>0.041670</td>\n",
       "      <td>-0.009435</td>\n",
       "      <td>-0.039881</td>\n",
       "      <td>-0.101567</td>\n",
       "      <td>0.106259</td>\n",
       "      <td>0.284230</td>\n",
       "      <td>1.000000</td>\n",
       "      <td>0.142072</td>\n",
       "    </tr>\n",
       "    <tr>\n",
       "      <th>#58 (num)(the predicted attribute)</th>\n",
       "      <td>0.287289</td>\n",
       "      <td>0.147470</td>\n",
       "      <td>0.168210</td>\n",
       "      <td>0.145444</td>\n",
       "      <td>0.079529</td>\n",
       "      <td>0.048940</td>\n",
       "      <td>-0.032800</td>\n",
       "      <td>-0.073072</td>\n",
       "      <td>0.206541</td>\n",
       "      <td>0.366526</td>\n",
       "      <td>0.142072</td>\n",
       "      <td>1.000000</td>\n",
       "    </tr>\n",
       "  </tbody>\n",
       "</table>\n",
       "</div>"
      ],
      "text/plain": [
       "                                     #3(age)   #4(sex)    #9(cp)  \\\n",
       "#3(age)                             1.000000  0.034230 -0.038280   \n",
       "#4(sex)                             0.034230  1.000000  0.038036   \n",
       "#9(cp)                             -0.038280  0.038036  1.000000   \n",
       "#10(trestbps)                       0.179566  0.008429  0.094128   \n",
       "#12(chol)                           0.069953 -0.093922  0.068766   \n",
       "#16(fbs)                            0.135728 -0.059400 -0.044416   \n",
       "#19(restecg)                        0.002400  0.060621  0.034790   \n",
       "#32(thalach)                       -0.150146 -0.004156 -0.108585   \n",
       "#38(exang)                          0.129027  0.029402  0.089904   \n",
       "#40(oldpeak)                        0.156191  0.100713  0.015627   \n",
       "#41(slope)                          0.107135  0.086709  0.059460   \n",
       "#58 (num)(the predicted attribute)  0.287289  0.147470  0.168210   \n",
       "\n",
       "                                    #10(trestbps)  #12(chol)  #16(fbs)  \\\n",
       "#3(age)                                  0.179566   0.069953  0.135728   \n",
       "#4(sex)                                  0.008429  -0.093922 -0.059400   \n",
       "#9(cp)                                   0.094128   0.068766 -0.044416   \n",
       "#10(trestbps)                            1.000000   0.142605  0.185084   \n",
       "#12(chol)                                0.142605   1.000000  0.175249   \n",
       "#16(fbs)                                 0.185084   0.175249  1.000000   \n",
       "#19(restecg)                             0.088871   0.028739  0.170616   \n",
       "#32(thalach)                            -0.005253  -0.044767  0.033219   \n",
       "#38(exang)                               0.173210   0.116148 -0.176144   \n",
       "#40(oldpeak)                             0.103139   0.015728 -0.096999   \n",
       "#41(slope)                               0.088883   0.041670 -0.009435   \n",
       "#58 (num)(the predicted attribute)       0.145444   0.079529  0.048940   \n",
       "\n",
       "                                    #19(restecg)  #32(thalach)  #38(exang)  \\\n",
       "#3(age)                                 0.002400     -0.150146    0.129027   \n",
       "#4(sex)                                 0.060621     -0.004156    0.029402   \n",
       "#9(cp)                                  0.034790     -0.108585    0.089904   \n",
       "#10(trestbps)                           0.088871     -0.005253    0.173210   \n",
       "#12(chol)                               0.028739     -0.044767    0.116148   \n",
       "#16(fbs)                                0.170616      0.033219   -0.176144   \n",
       "#19(restecg)                            1.000000      0.010094   -0.063203   \n",
       "#32(thalach)                            0.010094      1.000000   -0.093316   \n",
       "#38(exang)                             -0.063203     -0.093316    1.000000   \n",
       "#40(oldpeak)                           -0.102623      0.171803    0.315578   \n",
       "#41(slope)                             -0.039881     -0.101567    0.106259   \n",
       "#58 (num)(the predicted attribute)     -0.032800     -0.073072    0.206541   \n",
       "\n",
       "                                    #40(oldpeak)  #41(slope)  \\\n",
       "#3(age)                                 0.156191    0.107135   \n",
       "#4(sex)                                 0.100713    0.086709   \n",
       "#9(cp)                                  0.015627    0.059460   \n",
       "#10(trestbps)                           0.103139    0.088883   \n",
       "#12(chol)                               0.015728    0.041670   \n",
       "#16(fbs)                               -0.096999   -0.009435   \n",
       "#19(restecg)                           -0.102623   -0.039881   \n",
       "#32(thalach)                            0.171803   -0.101567   \n",
       "#38(exang)                              0.315578    0.106259   \n",
       "#40(oldpeak)                            1.000000    0.284230   \n",
       "#41(slope)                              0.284230    1.000000   \n",
       "#58 (num)(the predicted attribute)      0.366526    0.142072   \n",
       "\n",
       "                                    #58 (num)(the predicted attribute)  \n",
       "#3(age)                                                       0.287289  \n",
       "#4(sex)                                                       0.147470  \n",
       "#9(cp)                                                        0.168210  \n",
       "#10(trestbps)                                                 0.145444  \n",
       "#12(chol)                                                     0.079529  \n",
       "#16(fbs)                                                      0.048940  \n",
       "#19(restecg)                                                 -0.032800  \n",
       "#32(thalach)                                                 -0.073072  \n",
       "#38(exang)                                                    0.206541  \n",
       "#40(oldpeak)                                                  0.366526  \n",
       "#41(slope)                                                    0.142072  \n",
       "#58 (num)(the predicted attribute)                            1.000000  "
      ]
     },
     "execution_count": 666,
     "metadata": {},
     "output_type": "execute_result"
    }
   ],
   "source": [
    "dfcorr=df.corr()\n",
    "dfcorr"
   ]
  },
  {
   "cell_type": "code",
   "execution_count": 667,
   "metadata": {},
   "outputs": [
    {
     "data": {
      "text/plain": [
       "<matplotlib.axes._subplots.AxesSubplot at 0x1dd4dc007f0>"
      ]
     },
     "execution_count": 667,
     "metadata": {},
     "output_type": "execute_result"
    },
    {
     "data": {
      "image/png": "[encoded data removed]",
      "text/plain": [
       "<Figure size 720x432 with 2 Axes>"
      ]
     },
     "metadata": {
      "needs_background": "light"
     },
     "output_type": "display_data"
    }
   ],
   "source": [
    "plt.figure(figsize=(10,6))\n",
    "sns.heatmap(dfcorr,annot=True)"
   ]
  },
  {
   "cell_type": "markdown",
   "metadata": {},
   "source": [
    "Age,Sex,CP,trestbps,chol,exang,fbs,oldpeak,slope are positively correlated with the level of Heart Disease."
   ]
  },
  {
   "cell_type": "markdown",
   "metadata": {},
   "source": [
    "# Checking Outliers"
   ]
  },
  {
   "cell_type": "code",
   "execution_count": 668,
   "metadata": {},
   "outputs": [
    {
     "data": {
      "text/plain": [
       "(200, 12)"
      ]
     },
     "execution_count": 668,
     "metadata": {},
     "output_type": "execute_result"
    }
   ],
   "source": [
    "df.shape"
   ]
  },
  {
   "cell_type": "code",
   "execution_count": 669,
   "metadata": {},
   "outputs": [
    {
     "data": {
      "image/png": "[encoded data removed]",
      "text/plain": [
       "<Figure size 1728x4320 with 10 Axes>"
      ]
     },
     "metadata": {
      "needs_background": "light"
     },
     "output_type": "display_data"
    }
   ],
   "source": [
    "collist=df.columns.values\n",
    "ncol=12\n",
    "nrows=10\n",
    "\n",
    "plt.figure(figsize=(2*ncol,5*ncol))\n",
    "for i in range(2,len(collist)):\n",
    "    plt.subplot(nrows,ncol,i+1)\n",
    "    sns.boxplot(df[collist[i]],color='green',orient='h')\n",
    "    plt.tight_layout()"
   ]
  },
  {
   "cell_type": "markdown",
   "metadata": {},
   "source": [
    "There is some outliers in #10(trestbps),#32(thalach)"
   ]
  },
  {
   "cell_type": "markdown",
   "metadata": {},
   "source": [
    "# Removal of Outliers"
   ]
  },
  {
   "cell_type": "markdown",
   "metadata": {},
   "source": [
    "Z Score Method"
   ]
  },
  {
   "cell_type": "code",
   "execution_count": 670,
   "metadata": {},
   "outputs": [
    {
     "data": {
      "text/html": [
       "<div>\n",
       "<style scoped>\n",
       "    .dataframe tbody tr th:only-of-type {\n",
       "        vertical-align: middle;\n",
       "    }\n",
       "\n",
       "    .dataframe tbody tr th {\n",
       "        vertical-align: top;\n",
       "    }\n",
       "\n",
       "    .dataframe thead th {\n",
       "        text-align: right;\n",
       "    }\n",
       "</style>\n",
       "<table border=\"1\" class=\"dataframe\">\n",
       "  <thead>\n",
       "    <tr style=\"text-align: right;\">\n",
       "      <th></th>\n",
       "      <th>#3(age)</th>\n",
       "      <th>#4(sex)</th>\n",
       "      <th>#9(cp)</th>\n",
       "      <th>#10(trestbps)</th>\n",
       "      <th>#12(chol)</th>\n",
       "      <th>#16(fbs)</th>\n",
       "      <th>#19(restecg)</th>\n",
       "      <th>#32(thalach)</th>\n",
       "      <th>#38(exang)</th>\n",
       "      <th>#40(oldpeak)</th>\n",
       "      <th>#41(slope)</th>\n",
       "      <th>#58 (num)(the predicted attribute)</th>\n",
       "    </tr>\n",
       "  </thead>\n",
       "  <tbody>\n",
       "    <tr>\n",
       "      <th>0</th>\n",
       "      <td>63</td>\n",
       "      <td>1</td>\n",
       "      <td>4</td>\n",
       "      <td>140.0</td>\n",
       "      <td>260.0</td>\n",
       "      <td>0.0</td>\n",
       "      <td>1</td>\n",
       "      <td>112.0</td>\n",
       "      <td>1.0</td>\n",
       "      <td>3.0</td>\n",
       "      <td>2.0</td>\n",
       "      <td>2</td>\n",
       "    </tr>\n",
       "    <tr>\n",
       "      <th>1</th>\n",
       "      <td>44</td>\n",
       "      <td>1</td>\n",
       "      <td>4</td>\n",
       "      <td>130.0</td>\n",
       "      <td>209.0</td>\n",
       "      <td>0.0</td>\n",
       "      <td>1</td>\n",
       "      <td>127.0</td>\n",
       "      <td>0.0</td>\n",
       "      <td>0.0</td>\n",
       "      <td>2.0</td>\n",
       "      <td>0</td>\n",
       "    </tr>\n",
       "    <tr>\n",
       "      <th>2</th>\n",
       "      <td>60</td>\n",
       "      <td>1</td>\n",
       "      <td>4</td>\n",
       "      <td>132.0</td>\n",
       "      <td>218.0</td>\n",
       "      <td>0.0</td>\n",
       "      <td>1</td>\n",
       "      <td>140.0</td>\n",
       "      <td>1.0</td>\n",
       "      <td>1.5</td>\n",
       "      <td>3.0</td>\n",
       "      <td>2</td>\n",
       "    </tr>\n",
       "    <tr>\n",
       "      <th>3</th>\n",
       "      <td>55</td>\n",
       "      <td>1</td>\n",
       "      <td>4</td>\n",
       "      <td>142.0</td>\n",
       "      <td>228.0</td>\n",
       "      <td>0.0</td>\n",
       "      <td>1</td>\n",
       "      <td>149.0</td>\n",
       "      <td>1.0</td>\n",
       "      <td>2.5</td>\n",
       "      <td>1.0</td>\n",
       "      <td>1</td>\n",
       "    </tr>\n",
       "    <tr>\n",
       "      <th>4</th>\n",
       "      <td>66</td>\n",
       "      <td>1</td>\n",
       "      <td>3</td>\n",
       "      <td>110.0</td>\n",
       "      <td>213.0</td>\n",
       "      <td>1.0</td>\n",
       "      <td>2</td>\n",
       "      <td>99.0</td>\n",
       "      <td>1.0</td>\n",
       "      <td>1.3</td>\n",
       "      <td>2.0</td>\n",
       "      <td>0</td>\n",
       "    </tr>\n",
       "    <tr>\n",
       "      <th>...</th>\n",
       "      <td>...</td>\n",
       "      <td>...</td>\n",
       "      <td>...</td>\n",
       "      <td>...</td>\n",
       "      <td>...</td>\n",
       "      <td>...</td>\n",
       "      <td>...</td>\n",
       "      <td>...</td>\n",
       "      <td>...</td>\n",
       "      <td>...</td>\n",
       "      <td>...</td>\n",
       "      <td>...</td>\n",
       "    </tr>\n",
       "    <tr>\n",
       "      <th>193</th>\n",
       "      <td>62</td>\n",
       "      <td>1</td>\n",
       "      <td>4</td>\n",
       "      <td>158.0</td>\n",
       "      <td>170.0</td>\n",
       "      <td>0.0</td>\n",
       "      <td>1</td>\n",
       "      <td>138.0</td>\n",
       "      <td>1.0</td>\n",
       "      <td>0.0</td>\n",
       "      <td>2.0</td>\n",
       "      <td>1</td>\n",
       "    </tr>\n",
       "    <tr>\n",
       "      <th>194</th>\n",
       "      <td>46</td>\n",
       "      <td>1</td>\n",
       "      <td>4</td>\n",
       "      <td>134.0</td>\n",
       "      <td>310.0</td>\n",
       "      <td>0.0</td>\n",
       "      <td>0</td>\n",
       "      <td>126.0</td>\n",
       "      <td>0.0</td>\n",
       "      <td>0.0</td>\n",
       "      <td>2.0</td>\n",
       "      <td>2</td>\n",
       "    </tr>\n",
       "    <tr>\n",
       "      <th>197</th>\n",
       "      <td>55</td>\n",
       "      <td>1</td>\n",
       "      <td>4</td>\n",
       "      <td>122.0</td>\n",
       "      <td>223.0</td>\n",
       "      <td>1.0</td>\n",
       "      <td>1</td>\n",
       "      <td>100.0</td>\n",
       "      <td>0.0</td>\n",
       "      <td>0.0</td>\n",
       "      <td>2.0</td>\n",
       "      <td>2</td>\n",
       "    </tr>\n",
       "    <tr>\n",
       "      <th>198</th>\n",
       "      <td>58</td>\n",
       "      <td>1</td>\n",
       "      <td>4</td>\n",
       "      <td>130.0</td>\n",
       "      <td>385.0</td>\n",
       "      <td>1.0</td>\n",
       "      <td>2</td>\n",
       "      <td>120.0</td>\n",
       "      <td>1.0</td>\n",
       "      <td>1.5</td>\n",
       "      <td>2.0</td>\n",
       "      <td>0</td>\n",
       "    </tr>\n",
       "    <tr>\n",
       "      <th>199</th>\n",
       "      <td>62</td>\n",
       "      <td>1</td>\n",
       "      <td>2</td>\n",
       "      <td>120.0</td>\n",
       "      <td>254.0</td>\n",
       "      <td>0.0</td>\n",
       "      <td>2</td>\n",
       "      <td>93.0</td>\n",
       "      <td>1.0</td>\n",
       "      <td>0.0</td>\n",
       "      <td>2.0</td>\n",
       "      <td>1</td>\n",
       "    </tr>\n",
       "  </tbody>\n",
       "</table>\n",
       "<p>181 rows × 12 columns</p>\n",
       "</div>"
      ],
      "text/plain": [
       "     #3(age)  #4(sex)  #9(cp)  #10(trestbps)  #12(chol)  #16(fbs)  \\\n",
       "0         63        1       4          140.0      260.0       0.0   \n",
       "1         44        1       4          130.0      209.0       0.0   \n",
       "2         60        1       4          132.0      218.0       0.0   \n",
       "3         55        1       4          142.0      228.0       0.0   \n",
       "4         66        1       3          110.0      213.0       1.0   \n",
       "..       ...      ...     ...            ...        ...       ...   \n",
       "193       62        1       4          158.0      170.0       0.0   \n",
       "194       46        1       4          134.0      310.0       0.0   \n",
       "197       55        1       4          122.0      223.0       1.0   \n",
       "198       58        1       4          130.0      385.0       1.0   \n",
       "199       62        1       2          120.0      254.0       0.0   \n",
       "\n",
       "     #19(restecg)  #32(thalach)  #38(exang)  #40(oldpeak)  #41(slope)  \\\n",
       "0               1         112.0         1.0           3.0         2.0   \n",
       "1               1         127.0         0.0           0.0         2.0   \n",
       "2               1         140.0         1.0           1.5         3.0   \n",
       "3               1         149.0         1.0           2.5         1.0   \n",
       "4               2          99.0         1.0           1.3         2.0   \n",
       "..            ...           ...         ...           ...         ...   \n",
       "193             1         138.0         1.0           0.0         2.0   \n",
       "194             0         126.0         0.0           0.0         2.0   \n",
       "197             1         100.0         0.0           0.0         2.0   \n",
       "198             2         120.0         1.0           1.5         2.0   \n",
       "199             2          93.0         1.0           0.0         2.0   \n",
       "\n",
       "     #58 (num)(the predicted attribute)  \n",
       "0                                     2  \n",
       "1                                     0  \n",
       "2                                     2  \n",
       "3                                     1  \n",
       "4                                     0  \n",
       "..                                  ...  \n",
       "193                                   1  \n",
       "194                                   2  \n",
       "197                                   2  \n",
       "198                                   0  \n",
       "199                                   1  \n",
       "\n",
       "[181 rows x 12 columns]"
      ]
     },
     "execution_count": 670,
     "metadata": {},
     "output_type": "execute_result"
    }
   ],
   "source": [
    "import scipy\n",
    "from scipy.stats import zscore\n",
    "z=np.abs(zscore(df))\n",
    "threshold=3\n",
    "new_df=df[(z<3).all(axis=1)]\n",
    "\n",
    "new_df"
   ]
  },
  {
   "cell_type": "code",
   "execution_count": 671,
   "metadata": {},
   "outputs": [
    {
     "data": {
      "text/plain": [
       "(200, 12)"
      ]
     },
     "execution_count": 671,
     "metadata": {},
     "output_type": "execute_result"
    }
   ],
   "source": [
    "df.shape"
   ]
  },
  {
   "cell_type": "code",
   "execution_count": 672,
   "metadata": {},
   "outputs": [
    {
     "data": {
      "text/plain": [
       "(181, 12)"
      ]
     },
     "execution_count": 672,
     "metadata": {},
     "output_type": "execute_result"
    }
   ],
   "source": [
    "new_df.shape"
   ]
  },
  {
   "cell_type": "markdown",
   "metadata": {},
   "source": [
    "Percentage loss in data while removing outliers"
   ]
  },
  {
   "cell_type": "code",
   "execution_count": 673,
   "metadata": {},
   "outputs": [
    {
     "data": {
      "text/plain": [
       "9.5"
      ]
     },
     "execution_count": 673,
     "metadata": {},
     "output_type": "execute_result"
    }
   ],
   "source": [
    "P=(200-181)*100/200\n",
    "P"
   ]
  },
  {
   "cell_type": "markdown",
   "metadata": {},
   "source": [
    "9.5% is higher for removing outliers from dataset"
   ]
  },
  {
   "cell_type": "markdown",
   "metadata": {},
   "source": [
    "# Checking Skewness"
   ]
  },
  {
   "cell_type": "code",
   "execution_count": 674,
   "metadata": {},
   "outputs": [
    {
     "data": {
      "text/plain": [
       "#3(age)                              -0.341400\n",
       "#4(sex)                               0.000000\n",
       "#9(cp)                               -1.414098\n",
       "#10(trestbps)                         0.698089\n",
       "#12(chol)                            -0.580544\n",
       "#16(fbs)                              0.748785\n",
       "#19(restecg)                          0.386145\n",
       "#32(thalach)                          0.058124\n",
       "#38(exang)                           -1.207866\n",
       "#40(oldpeak)                          0.291281\n",
       "#41(slope)                            0.273012\n",
       "#58 (num)(the predicted attribute)    0.274859\n",
       "dtype: float64"
      ]
     },
     "execution_count": 674,
     "metadata": {},
     "output_type": "execute_result"
    }
   ],
   "source": [
    "new_df.skew()"
   ]
  },
  {
   "cell_type": "code",
   "execution_count": 675,
   "metadata": {},
   "outputs": [
    {
     "data": {
      "image/png": "[encoded data removed]",
      "text/plain": [
       "<Figure size 432x288 with 1 Axes>"
      ]
     },
     "metadata": {
      "needs_background": "light"
     },
     "output_type": "display_data"
    },
    {
     "data": {
      "image/png": "[encoded data removed]",
      "text/plain": [
       "<Figure size 432x288 with 1 Axes>"
      ]
     },
     "metadata": {
      "needs_background": "light"
     },
     "output_type": "display_data"
    }
   ],
   "source": [
    "for l in ['#9(cp)','#38(exang)']:\n",
    "    sns.distplot(new_df[l])\n",
    "    plt.show()"
   ]
  },
  {
   "cell_type": "code",
   "execution_count": 694,
   "metadata": {},
   "outputs": [
    {
     "data": {
      "text/html": [
       "<div>\n",
       "<style scoped>\n",
       "    .dataframe tbody tr th:only-of-type {\n",
       "        vertical-align: middle;\n",
       "    }\n",
       "\n",
       "    .dataframe tbody tr th {\n",
       "        vertical-align: top;\n",
       "    }\n",
       "\n",
       "    .dataframe thead th {\n",
       "        text-align: right;\n",
       "    }\n",
       "</style>\n",
       "<table border=\"1\" class=\"dataframe\">\n",
       "  <thead>\n",
       "    <tr style=\"text-align: right;\">\n",
       "      <th></th>\n",
       "      <th>#3(age)</th>\n",
       "      <th>#4(sex)</th>\n",
       "      <th>#9(cp)</th>\n",
       "      <th>#10(trestbps)</th>\n",
       "      <th>#12(chol)</th>\n",
       "      <th>#16(fbs)</th>\n",
       "      <th>#19(restecg)</th>\n",
       "      <th>#32(thalach)</th>\n",
       "      <th>#38(exang)</th>\n",
       "      <th>#40(oldpeak)</th>\n",
       "      <th>#41(slope)</th>\n",
       "    </tr>\n",
       "  </thead>\n",
       "  <tbody>\n",
       "    <tr>\n",
       "      <th>0</th>\n",
       "      <td>63</td>\n",
       "      <td>1</td>\n",
       "      <td>4</td>\n",
       "      <td>140.0</td>\n",
       "      <td>260.0</td>\n",
       "      <td>0.0</td>\n",
       "      <td>1</td>\n",
       "      <td>112.0</td>\n",
       "      <td>1.0</td>\n",
       "      <td>3.0</td>\n",
       "      <td>2.0</td>\n",
       "    </tr>\n",
       "    <tr>\n",
       "      <th>1</th>\n",
       "      <td>44</td>\n",
       "      <td>1</td>\n",
       "      <td>4</td>\n",
       "      <td>130.0</td>\n",
       "      <td>209.0</td>\n",
       "      <td>0.0</td>\n",
       "      <td>1</td>\n",
       "      <td>127.0</td>\n",
       "      <td>0.0</td>\n",
       "      <td>0.0</td>\n",
       "      <td>2.0</td>\n",
       "    </tr>\n",
       "    <tr>\n",
       "      <th>2</th>\n",
       "      <td>60</td>\n",
       "      <td>1</td>\n",
       "      <td>4</td>\n",
       "      <td>132.0</td>\n",
       "      <td>218.0</td>\n",
       "      <td>0.0</td>\n",
       "      <td>1</td>\n",
       "      <td>140.0</td>\n",
       "      <td>1.0</td>\n",
       "      <td>1.5</td>\n",
       "      <td>3.0</td>\n",
       "    </tr>\n",
       "    <tr>\n",
       "      <th>3</th>\n",
       "      <td>55</td>\n",
       "      <td>1</td>\n",
       "      <td>4</td>\n",
       "      <td>142.0</td>\n",
       "      <td>228.0</td>\n",
       "      <td>0.0</td>\n",
       "      <td>1</td>\n",
       "      <td>149.0</td>\n",
       "      <td>1.0</td>\n",
       "      <td>2.5</td>\n",
       "      <td>1.0</td>\n",
       "    </tr>\n",
       "    <tr>\n",
       "      <th>4</th>\n",
       "      <td>66</td>\n",
       "      <td>1</td>\n",
       "      <td>3</td>\n",
       "      <td>110.0</td>\n",
       "      <td>213.0</td>\n",
       "      <td>1.0</td>\n",
       "      <td>2</td>\n",
       "      <td>99.0</td>\n",
       "      <td>1.0</td>\n",
       "      <td>1.3</td>\n",
       "      <td>2.0</td>\n",
       "    </tr>\n",
       "    <tr>\n",
       "      <th>...</th>\n",
       "      <td>...</td>\n",
       "      <td>...</td>\n",
       "      <td>...</td>\n",
       "      <td>...</td>\n",
       "      <td>...</td>\n",
       "      <td>...</td>\n",
       "      <td>...</td>\n",
       "      <td>...</td>\n",
       "      <td>...</td>\n",
       "      <td>...</td>\n",
       "      <td>...</td>\n",
       "    </tr>\n",
       "    <tr>\n",
       "      <th>193</th>\n",
       "      <td>62</td>\n",
       "      <td>1</td>\n",
       "      <td>4</td>\n",
       "      <td>158.0</td>\n",
       "      <td>170.0</td>\n",
       "      <td>0.0</td>\n",
       "      <td>1</td>\n",
       "      <td>138.0</td>\n",
       "      <td>1.0</td>\n",
       "      <td>0.0</td>\n",
       "      <td>2.0</td>\n",
       "    </tr>\n",
       "    <tr>\n",
       "      <th>194</th>\n",
       "      <td>46</td>\n",
       "      <td>1</td>\n",
       "      <td>4</td>\n",
       "      <td>134.0</td>\n",
       "      <td>310.0</td>\n",
       "      <td>0.0</td>\n",
       "      <td>0</td>\n",
       "      <td>126.0</td>\n",
       "      <td>0.0</td>\n",
       "      <td>0.0</td>\n",
       "      <td>2.0</td>\n",
       "    </tr>\n",
       "    <tr>\n",
       "      <th>197</th>\n",
       "      <td>55</td>\n",
       "      <td>1</td>\n",
       "      <td>4</td>\n",
       "      <td>122.0</td>\n",
       "      <td>223.0</td>\n",
       "      <td>1.0</td>\n",
       "      <td>1</td>\n",
       "      <td>100.0</td>\n",
       "      <td>0.0</td>\n",
       "      <td>0.0</td>\n",
       "      <td>2.0</td>\n",
       "    </tr>\n",
       "    <tr>\n",
       "      <th>198</th>\n",
       "      <td>58</td>\n",
       "      <td>1</td>\n",
       "      <td>4</td>\n",
       "      <td>130.0</td>\n",
       "      <td>385.0</td>\n",
       "      <td>1.0</td>\n",
       "      <td>2</td>\n",
       "      <td>120.0</td>\n",
       "      <td>1.0</td>\n",
       "      <td>1.5</td>\n",
       "      <td>2.0</td>\n",
       "    </tr>\n",
       "    <tr>\n",
       "      <th>199</th>\n",
       "      <td>62</td>\n",
       "      <td>1</td>\n",
       "      <td>2</td>\n",
       "      <td>120.0</td>\n",
       "      <td>254.0</td>\n",
       "      <td>0.0</td>\n",
       "      <td>2</td>\n",
       "      <td>93.0</td>\n",
       "      <td>1.0</td>\n",
       "      <td>0.0</td>\n",
       "      <td>2.0</td>\n",
       "    </tr>\n",
       "  </tbody>\n",
       "</table>\n",
       "<p>181 rows × 11 columns</p>\n",
       "</div>"
      ],
      "text/plain": [
       "     #3(age)  #4(sex)  #9(cp)  #10(trestbps)  #12(chol)  #16(fbs)  \\\n",
       "0         63        1       4          140.0      260.0       0.0   \n",
       "1         44        1       4          130.0      209.0       0.0   \n",
       "2         60        1       4          132.0      218.0       0.0   \n",
       "3         55        1       4          142.0      228.0       0.0   \n",
       "4         66        1       3          110.0      213.0       1.0   \n",
       "..       ...      ...     ...            ...        ...       ...   \n",
       "193       62        1       4          158.0      170.0       0.0   \n",
       "194       46        1       4          134.0      310.0       0.0   \n",
       "197       55        1       4          122.0      223.0       1.0   \n",
       "198       58        1       4          130.0      385.0       1.0   \n",
       "199       62        1       2          120.0      254.0       0.0   \n",
       "\n",
       "     #19(restecg)  #32(thalach)  #38(exang)  #40(oldpeak)  #41(slope)  \n",
       "0               1         112.0         1.0           3.0         2.0  \n",
       "1               1         127.0         0.0           0.0         2.0  \n",
       "2               1         140.0         1.0           1.5         3.0  \n",
       "3               1         149.0         1.0           2.5         1.0  \n",
       "4               2          99.0         1.0           1.3         2.0  \n",
       "..            ...           ...         ...           ...         ...  \n",
       "193             1         138.0         1.0           0.0         2.0  \n",
       "194             0         126.0         0.0           0.0         2.0  \n",
       "197             1         100.0         0.0           0.0         2.0  \n",
       "198             2         120.0         1.0           1.5         2.0  \n",
       "199             2          93.0         1.0           0.0         2.0  \n",
       "\n",
       "[181 rows x 11 columns]"
      ]
     },
     "execution_count": 694,
     "metadata": {},
     "output_type": "execute_result"
    }
   ],
   "source": [
    "x=new_df.iloc[:,0:-1]\n",
    "x"
   ]
  },
  {
   "cell_type": "code",
   "execution_count": 695,
   "metadata": {},
   "outputs": [
    {
     "data": {
      "text/plain": [
       "#3(age)         -0.341400\n",
       "#4(sex)          0.000000\n",
       "#9(cp)          -1.414098\n",
       "#10(trestbps)    0.698089\n",
       "#12(chol)       -0.580544\n",
       "#16(fbs)         0.748785\n",
       "#19(restecg)     0.386145\n",
       "#32(thalach)     0.058124\n",
       "#38(exang)      -1.207866\n",
       "#40(oldpeak)     0.291281\n",
       "#41(slope)       0.273012\n",
       "dtype: float64"
      ]
     },
     "execution_count": 695,
     "metadata": {},
     "output_type": "execute_result"
    }
   ],
   "source": [
    "x.skew()"
   ]
  },
  {
   "cell_type": "code",
   "execution_count": 696,
   "metadata": {},
   "outputs": [
    {
     "data": {
      "text/html": [
       "<div>\n",
       "<style scoped>\n",
       "    .dataframe tbody tr th:only-of-type {\n",
       "        vertical-align: middle;\n",
       "    }\n",
       "\n",
       "    .dataframe tbody tr th {\n",
       "        vertical-align: top;\n",
       "    }\n",
       "\n",
       "    .dataframe thead th {\n",
       "        text-align: right;\n",
       "    }\n",
       "</style>\n",
       "<table border=\"1\" class=\"dataframe\">\n",
       "  <thead>\n",
       "    <tr style=\"text-align: right;\">\n",
       "      <th></th>\n",
       "      <th>0</th>\n",
       "      <th>1</th>\n",
       "      <th>2</th>\n",
       "      <th>3</th>\n",
       "      <th>4</th>\n",
       "      <th>5</th>\n",
       "      <th>6</th>\n",
       "      <th>7</th>\n",
       "      <th>8</th>\n",
       "      <th>9</th>\n",
       "      <th>10</th>\n",
       "    </tr>\n",
       "  </thead>\n",
       "  <tbody>\n",
       "    <tr>\n",
       "      <th>0</th>\n",
       "      <td>0.429569</td>\n",
       "      <td>0.0</td>\n",
       "      <td>0.659061</td>\n",
       "      <td>0.514456</td>\n",
       "      <td>0.692419</td>\n",
       "      <td>-0.695418</td>\n",
       "      <td>0.526146</td>\n",
       "      <td>-0.497381</td>\n",
       "      <td>0.566717</td>\n",
       "      <td>1.611522</td>\n",
       "      <td>-0.148035</td>\n",
       "    </tr>\n",
       "    <tr>\n",
       "      <th>1</th>\n",
       "      <td>-1.874986</td>\n",
       "      <td>0.0</td>\n",
       "      <td>0.659061</td>\n",
       "      <td>-0.127909</td>\n",
       "      <td>0.397498</td>\n",
       "      <td>-0.695418</td>\n",
       "      <td>0.526146</td>\n",
       "      <td>0.340953</td>\n",
       "      <td>-1.764550</td>\n",
       "      <td>-1.504483</td>\n",
       "      <td>-0.148035</td>\n",
       "    </tr>\n",
       "    <tr>\n",
       "      <th>2</th>\n",
       "      <td>0.024317</td>\n",
       "      <td>0.0</td>\n",
       "      <td>0.659061</td>\n",
       "      <td>0.007315</td>\n",
       "      <td>0.451542</td>\n",
       "      <td>-0.695418</td>\n",
       "      <td>0.526146</td>\n",
       "      <td>1.064231</td>\n",
       "      <td>0.566717</td>\n",
       "      <td>0.216858</td>\n",
       "      <td>1.939711</td>\n",
       "    </tr>\n",
       "    <tr>\n",
       "      <th>3</th>\n",
       "      <td>-0.617118</td>\n",
       "      <td>0.0</td>\n",
       "      <td>0.659061</td>\n",
       "      <td>0.633455</td>\n",
       "      <td>0.510520</td>\n",
       "      <td>-0.695418</td>\n",
       "      <td>0.526146</td>\n",
       "      <td>1.563344</td>\n",
       "      <td>0.566717</td>\n",
       "      <td>1.169242</td>\n",
       "      <td>-2.423016</td>\n",
       "    </tr>\n",
       "    <tr>\n",
       "      <th>4</th>\n",
       "      <td>0.849917</td>\n",
       "      <td>0.0</td>\n",
       "      <td>-1.446242</td>\n",
       "      <td>-1.711183</td>\n",
       "      <td>0.421634</td>\n",
       "      <td>1.437984</td>\n",
       "      <td>1.565682</td>\n",
       "      <td>-1.227629</td>\n",
       "      <td>0.566717</td>\n",
       "      <td>0.012506</td>\n",
       "      <td>-0.148035</td>\n",
       "    </tr>\n",
       "    <tr>\n",
       "      <th>...</th>\n",
       "      <td>...</td>\n",
       "      <td>...</td>\n",
       "      <td>...</td>\n",
       "      <td>...</td>\n",
       "      <td>...</td>\n",
       "      <td>...</td>\n",
       "      <td>...</td>\n",
       "      <td>...</td>\n",
       "      <td>...</td>\n",
       "      <td>...</td>\n",
       "      <td>...</td>\n",
       "    </tr>\n",
       "    <tr>\n",
       "      <th>176</th>\n",
       "      <td>0.292800</td>\n",
       "      <td>0.0</td>\n",
       "      <td>0.659061</td>\n",
       "      <td>1.490267</td>\n",
       "      <td>0.151235</td>\n",
       "      <td>-0.695418</td>\n",
       "      <td>0.526146</td>\n",
       "      <td>0.953142</td>\n",
       "      <td>0.566717</td>\n",
       "      <td>-1.504483</td>\n",
       "      <td>-0.148035</td>\n",
       "    </tr>\n",
       "    <tr>\n",
       "      <th>177</th>\n",
       "      <td>-1.662272</td>\n",
       "      <td>0.0</td>\n",
       "      <td>0.659061</td>\n",
       "      <td>0.139025</td>\n",
       "      <td>0.959033</td>\n",
       "      <td>-0.695418</td>\n",
       "      <td>-1.157477</td>\n",
       "      <td>0.285195</td>\n",
       "      <td>-1.764550</td>\n",
       "      <td>-1.504483</td>\n",
       "      <td>-0.148035</td>\n",
       "    </tr>\n",
       "    <tr>\n",
       "      <th>178</th>\n",
       "      <td>-0.617118</td>\n",
       "      <td>0.0</td>\n",
       "      <td>0.659061</td>\n",
       "      <td>-0.707055</td>\n",
       "      <td>0.481167</td>\n",
       "      <td>1.437984</td>\n",
       "      <td>0.526146</td>\n",
       "      <td>-1.171324</td>\n",
       "      <td>-1.764550</td>\n",
       "      <td>-1.504483</td>\n",
       "      <td>-0.148035</td>\n",
       "    </tr>\n",
       "    <tr>\n",
       "      <th>179</th>\n",
       "      <td>-0.237386</td>\n",
       "      <td>0.0</td>\n",
       "      <td>0.659061</td>\n",
       "      <td>-0.127909</td>\n",
       "      <td>1.327577</td>\n",
       "      <td>1.437984</td>\n",
       "      <td>1.565682</td>\n",
       "      <td>-0.049737</td>\n",
       "      <td>0.566717</td>\n",
       "      <td>0.216858</td>\n",
       "      <td>-0.148035</td>\n",
       "    </tr>\n",
       "    <tr>\n",
       "      <th>180</th>\n",
       "      <td>0.292800</td>\n",
       "      <td>0.0</td>\n",
       "      <td>-1.764275</td>\n",
       "      <td>-0.862271</td>\n",
       "      <td>0.659051</td>\n",
       "      <td>-0.695418</td>\n",
       "      <td>1.565682</td>\n",
       "      <td>-1.565955</td>\n",
       "      <td>0.566717</td>\n",
       "      <td>-1.504483</td>\n",
       "      <td>-0.148035</td>\n",
       "    </tr>\n",
       "  </tbody>\n",
       "</table>\n",
       "<p>181 rows × 11 columns</p>\n",
       "</div>"
      ],
      "text/plain": [
       "            0    1         2         3         4         5         6  \\\n",
       "0    0.429569  0.0  0.659061  0.514456  0.692419 -0.695418  0.526146   \n",
       "1   -1.874986  0.0  0.659061 -0.127909  0.397498 -0.695418  0.526146   \n",
       "2    0.024317  0.0  0.659061  0.007315  0.451542 -0.695418  0.526146   \n",
       "3   -0.617118  0.0  0.659061  0.633455  0.510520 -0.695418  0.526146   \n",
       "4    0.849917  0.0 -1.446242 -1.711183  0.421634  1.437984  1.565682   \n",
       "..        ...  ...       ...       ...       ...       ...       ...   \n",
       "176  0.292800  0.0  0.659061  1.490267  0.151235 -0.695418  0.526146   \n",
       "177 -1.662272  0.0  0.659061  0.139025  0.959033 -0.695418 -1.157477   \n",
       "178 -0.617118  0.0  0.659061 -0.707055  0.481167  1.437984  0.526146   \n",
       "179 -0.237386  0.0  0.659061 -0.127909  1.327577  1.437984  1.565682   \n",
       "180  0.292800  0.0 -1.764275 -0.862271  0.659051 -0.695418  1.565682   \n",
       "\n",
       "            7         8         9        10  \n",
       "0   -0.497381  0.566717  1.611522 -0.148035  \n",
       "1    0.340953 -1.764550 -1.504483 -0.148035  \n",
       "2    1.064231  0.566717  0.216858  1.939711  \n",
       "3    1.563344  0.566717  1.169242 -2.423016  \n",
       "4   -1.227629  0.566717  0.012506 -0.148035  \n",
       "..        ...       ...       ...       ...  \n",
       "176  0.953142  0.566717 -1.504483 -0.148035  \n",
       "177  0.285195 -1.764550 -1.504483 -0.148035  \n",
       "178 -1.171324 -1.764550 -1.504483 -0.148035  \n",
       "179 -0.049737  0.566717  0.216858 -0.148035  \n",
       "180 -1.565955  0.566717 -1.504483 -0.148035  \n",
       "\n",
       "[181 rows x 11 columns]"
      ]
     },
     "execution_count": 696,
     "metadata": {},
     "output_type": "execute_result"
    }
   ],
   "source": [
    "from sklearn.preprocessing import PowerTransformer\n",
    "pt=PowerTransformer()\n",
    "pt_x=pd.DataFrame(pt.fit_transform(x))\n",
    "pt_x"
   ]
  },
  {
   "cell_type": "code",
   "execution_count": 713,
   "metadata": {},
   "outputs": [
    {
     "data": {
      "text/plain": [
       "0     0.014688\n",
       "1     0.000000\n",
       "2    -0.877102\n",
       "3    -0.014800\n",
       "4    -0.947636\n",
       "5     0.748785\n",
       "6    -0.019313\n",
       "7     0.033219\n",
       "8    -1.207866\n",
       "9    -0.059880\n",
       "10    0.064959\n",
       "dtype: float64"
      ]
     },
     "execution_count": 713,
     "metadata": {},
     "output_type": "execute_result"
    }
   ],
   "source": [
    "pt_x.skew()"
   ]
  },
  {
   "cell_type": "markdown",
   "metadata": {},
   "source": [
    "Some Skewness is removed."
   ]
  },
  {
   "cell_type": "markdown",
   "metadata": {},
   "source": [
    "# Preparing Input and Output Variables for Model Training"
   ]
  },
  {
   "cell_type": "code",
   "execution_count": 714,
   "metadata": {},
   "outputs": [
    {
     "data": {
      "text/html": [
       "<div>\n",
       "<style scoped>\n",
       "    .dataframe tbody tr th:only-of-type {\n",
       "        vertical-align: middle;\n",
       "    }\n",
       "\n",
       "    .dataframe tbody tr th {\n",
       "        vertical-align: top;\n",
       "    }\n",
       "\n",
       "    .dataframe thead th {\n",
       "        text-align: right;\n",
       "    }\n",
       "</style>\n",
       "<table border=\"1\" class=\"dataframe\">\n",
       "  <thead>\n",
       "    <tr style=\"text-align: right;\">\n",
       "      <th></th>\n",
       "      <th>0</th>\n",
       "      <th>1</th>\n",
       "      <th>2</th>\n",
       "      <th>3</th>\n",
       "      <th>4</th>\n",
       "      <th>5</th>\n",
       "      <th>6</th>\n",
       "      <th>7</th>\n",
       "      <th>8</th>\n",
       "      <th>9</th>\n",
       "      <th>10</th>\n",
       "    </tr>\n",
       "  </thead>\n",
       "  <tbody>\n",
       "    <tr>\n",
       "      <th>0</th>\n",
       "      <td>0.429569</td>\n",
       "      <td>0.0</td>\n",
       "      <td>0.659061</td>\n",
       "      <td>0.514456</td>\n",
       "      <td>0.692419</td>\n",
       "      <td>-0.695418</td>\n",
       "      <td>0.526146</td>\n",
       "      <td>-0.497381</td>\n",
       "      <td>0.566717</td>\n",
       "      <td>1.611522</td>\n",
       "      <td>-0.148035</td>\n",
       "    </tr>\n",
       "    <tr>\n",
       "      <th>1</th>\n",
       "      <td>-1.874986</td>\n",
       "      <td>0.0</td>\n",
       "      <td>0.659061</td>\n",
       "      <td>-0.127909</td>\n",
       "      <td>0.397498</td>\n",
       "      <td>-0.695418</td>\n",
       "      <td>0.526146</td>\n",
       "      <td>0.340953</td>\n",
       "      <td>-1.764550</td>\n",
       "      <td>-1.504483</td>\n",
       "      <td>-0.148035</td>\n",
       "    </tr>\n",
       "    <tr>\n",
       "      <th>2</th>\n",
       "      <td>0.024317</td>\n",
       "      <td>0.0</td>\n",
       "      <td>0.659061</td>\n",
       "      <td>0.007315</td>\n",
       "      <td>0.451542</td>\n",
       "      <td>-0.695418</td>\n",
       "      <td>0.526146</td>\n",
       "      <td>1.064231</td>\n",
       "      <td>0.566717</td>\n",
       "      <td>0.216858</td>\n",
       "      <td>1.939711</td>\n",
       "    </tr>\n",
       "    <tr>\n",
       "      <th>3</th>\n",
       "      <td>-0.617118</td>\n",
       "      <td>0.0</td>\n",
       "      <td>0.659061</td>\n",
       "      <td>0.633455</td>\n",
       "      <td>0.510520</td>\n",
       "      <td>-0.695418</td>\n",
       "      <td>0.526146</td>\n",
       "      <td>1.563344</td>\n",
       "      <td>0.566717</td>\n",
       "      <td>1.169242</td>\n",
       "      <td>-2.423016</td>\n",
       "    </tr>\n",
       "    <tr>\n",
       "      <th>4</th>\n",
       "      <td>0.849917</td>\n",
       "      <td>0.0</td>\n",
       "      <td>-1.446242</td>\n",
       "      <td>-1.711183</td>\n",
       "      <td>0.421634</td>\n",
       "      <td>1.437984</td>\n",
       "      <td>1.565682</td>\n",
       "      <td>-1.227629</td>\n",
       "      <td>0.566717</td>\n",
       "      <td>0.012506</td>\n",
       "      <td>-0.148035</td>\n",
       "    </tr>\n",
       "    <tr>\n",
       "      <th>...</th>\n",
       "      <td>...</td>\n",
       "      <td>...</td>\n",
       "      <td>...</td>\n",
       "      <td>...</td>\n",
       "      <td>...</td>\n",
       "      <td>...</td>\n",
       "      <td>...</td>\n",
       "      <td>...</td>\n",
       "      <td>...</td>\n",
       "      <td>...</td>\n",
       "      <td>...</td>\n",
       "    </tr>\n",
       "    <tr>\n",
       "      <th>176</th>\n",
       "      <td>0.292800</td>\n",
       "      <td>0.0</td>\n",
       "      <td>0.659061</td>\n",
       "      <td>1.490267</td>\n",
       "      <td>0.151235</td>\n",
       "      <td>-0.695418</td>\n",
       "      <td>0.526146</td>\n",
       "      <td>0.953142</td>\n",
       "      <td>0.566717</td>\n",
       "      <td>-1.504483</td>\n",
       "      <td>-0.148035</td>\n",
       "    </tr>\n",
       "    <tr>\n",
       "      <th>177</th>\n",
       "      <td>-1.662272</td>\n",
       "      <td>0.0</td>\n",
       "      <td>0.659061</td>\n",
       "      <td>0.139025</td>\n",
       "      <td>0.959033</td>\n",
       "      <td>-0.695418</td>\n",
       "      <td>-1.157477</td>\n",
       "      <td>0.285195</td>\n",
       "      <td>-1.764550</td>\n",
       "      <td>-1.504483</td>\n",
       "      <td>-0.148035</td>\n",
       "    </tr>\n",
       "    <tr>\n",
       "      <th>178</th>\n",
       "      <td>-0.617118</td>\n",
       "      <td>0.0</td>\n",
       "      <td>0.659061</td>\n",
       "      <td>-0.707055</td>\n",
       "      <td>0.481167</td>\n",
       "      <td>1.437984</td>\n",
       "      <td>0.526146</td>\n",
       "      <td>-1.171324</td>\n",
       "      <td>-1.764550</td>\n",
       "      <td>-1.504483</td>\n",
       "      <td>-0.148035</td>\n",
       "    </tr>\n",
       "    <tr>\n",
       "      <th>179</th>\n",
       "      <td>-0.237386</td>\n",
       "      <td>0.0</td>\n",
       "      <td>0.659061</td>\n",
       "      <td>-0.127909</td>\n",
       "      <td>1.327577</td>\n",
       "      <td>1.437984</td>\n",
       "      <td>1.565682</td>\n",
       "      <td>-0.049737</td>\n",
       "      <td>0.566717</td>\n",
       "      <td>0.216858</td>\n",
       "      <td>-0.148035</td>\n",
       "    </tr>\n",
       "    <tr>\n",
       "      <th>180</th>\n",
       "      <td>0.292800</td>\n",
       "      <td>0.0</td>\n",
       "      <td>-1.764275</td>\n",
       "      <td>-0.862271</td>\n",
       "      <td>0.659051</td>\n",
       "      <td>-0.695418</td>\n",
       "      <td>1.565682</td>\n",
       "      <td>-1.565955</td>\n",
       "      <td>0.566717</td>\n",
       "      <td>-1.504483</td>\n",
       "      <td>-0.148035</td>\n",
       "    </tr>\n",
       "  </tbody>\n",
       "</table>\n",
       "<p>181 rows × 11 columns</p>\n",
       "</div>"
      ],
      "text/plain": [
       "            0    1         2         3         4         5         6  \\\n",
       "0    0.429569  0.0  0.659061  0.514456  0.692419 -0.695418  0.526146   \n",
       "1   -1.874986  0.0  0.659061 -0.127909  0.397498 -0.695418  0.526146   \n",
       "2    0.024317  0.0  0.659061  0.007315  0.451542 -0.695418  0.526146   \n",
       "3   -0.617118  0.0  0.659061  0.633455  0.510520 -0.695418  0.526146   \n",
       "4    0.849917  0.0 -1.446242 -1.711183  0.421634  1.437984  1.565682   \n",
       "..        ...  ...       ...       ...       ...       ...       ...   \n",
       "176  0.292800  0.0  0.659061  1.490267  0.151235 -0.695418  0.526146   \n",
       "177 -1.662272  0.0  0.659061  0.139025  0.959033 -0.695418 -1.157477   \n",
       "178 -0.617118  0.0  0.659061 -0.707055  0.481167  1.437984  0.526146   \n",
       "179 -0.237386  0.0  0.659061 -0.127909  1.327577  1.437984  1.565682   \n",
       "180  0.292800  0.0 -1.764275 -0.862271  0.659051 -0.695418  1.565682   \n",
       "\n",
       "            7         8         9        10  \n",
       "0   -0.497381  0.566717  1.611522 -0.148035  \n",
       "1    0.340953 -1.764550 -1.504483 -0.148035  \n",
       "2    1.064231  0.566717  0.216858  1.939711  \n",
       "3    1.563344  0.566717  1.169242 -2.423016  \n",
       "4   -1.227629  0.566717  0.012506 -0.148035  \n",
       "..        ...       ...       ...       ...  \n",
       "176  0.953142  0.566717 -1.504483 -0.148035  \n",
       "177  0.285195 -1.764550 -1.504483 -0.148035  \n",
       "178 -1.171324 -1.764550 -1.504483 -0.148035  \n",
       "179 -0.049737  0.566717  0.216858 -0.148035  \n",
       "180 -1.565955  0.566717 -1.504483 -0.148035  \n",
       "\n",
       "[181 rows x 11 columns]"
      ]
     },
     "execution_count": 714,
     "metadata": {},
     "output_type": "execute_result"
    }
   ],
   "source": [
    "pt_x"
   ]
  },
  {
   "cell_type": "code",
   "execution_count": 686,
   "metadata": {},
   "outputs": [
    {
     "data": {
      "text/html": [
       "<div>\n",
       "<style scoped>\n",
       "    .dataframe tbody tr th:only-of-type {\n",
       "        vertical-align: middle;\n",
       "    }\n",
       "\n",
       "    .dataframe tbody tr th {\n",
       "        vertical-align: top;\n",
       "    }\n",
       "\n",
       "    .dataframe thead th {\n",
       "        text-align: right;\n",
       "    }\n",
       "</style>\n",
       "<table border=\"1\" class=\"dataframe\">\n",
       "  <thead>\n",
       "    <tr style=\"text-align: right;\">\n",
       "      <th></th>\n",
       "      <th>#58 (num)(the predicted attribute)</th>\n",
       "    </tr>\n",
       "  </thead>\n",
       "  <tbody>\n",
       "    <tr>\n",
       "      <th>0</th>\n",
       "      <td>2</td>\n",
       "    </tr>\n",
       "    <tr>\n",
       "      <th>1</th>\n",
       "      <td>0</td>\n",
       "    </tr>\n",
       "    <tr>\n",
       "      <th>2</th>\n",
       "      <td>2</td>\n",
       "    </tr>\n",
       "    <tr>\n",
       "      <th>3</th>\n",
       "      <td>1</td>\n",
       "    </tr>\n",
       "    <tr>\n",
       "      <th>4</th>\n",
       "      <td>0</td>\n",
       "    </tr>\n",
       "    <tr>\n",
       "      <th>...</th>\n",
       "      <td>...</td>\n",
       "    </tr>\n",
       "    <tr>\n",
       "      <th>193</th>\n",
       "      <td>1</td>\n",
       "    </tr>\n",
       "    <tr>\n",
       "      <th>194</th>\n",
       "      <td>2</td>\n",
       "    </tr>\n",
       "    <tr>\n",
       "      <th>197</th>\n",
       "      <td>2</td>\n",
       "    </tr>\n",
       "    <tr>\n",
       "      <th>198</th>\n",
       "      <td>0</td>\n",
       "    </tr>\n",
       "    <tr>\n",
       "      <th>199</th>\n",
       "      <td>1</td>\n",
       "    </tr>\n",
       "  </tbody>\n",
       "</table>\n",
       "<p>181 rows × 1 columns</p>\n",
       "</div>"
      ],
      "text/plain": [
       "     #58 (num)(the predicted attribute)\n",
       "0                                     2\n",
       "1                                     0\n",
       "2                                     2\n",
       "3                                     1\n",
       "4                                     0\n",
       "..                                  ...\n",
       "193                                   1\n",
       "194                                   2\n",
       "197                                   2\n",
       "198                                   0\n",
       "199                                   1\n",
       "\n",
       "[181 rows x 1 columns]"
      ]
     },
     "execution_count": 686,
     "metadata": {},
     "output_type": "execute_result"
    }
   ],
   "source": [
    "y=pd.DataFrame(new_df.iloc[:,-1])\n",
    "y"
   ]
  },
  {
   "cell_type": "markdown",
   "metadata": {},
   "source": [
    "# Scaling the Input Data"
   ]
  },
  {
   "cell_type": "code",
   "execution_count": null,
   "metadata": {},
   "outputs": [],
   "source": [
    "from sklearn.preprocessing import StandardScaler\n",
    "\n",
    "scaler=StandardScaler()\n",
    "scaled_x=scaler.fit_transform(x)\n",
    "scaled_x"
   ]
  },
  {
   "cell_type": "markdown",
   "metadata": {},
   "source": [
    "# The target variable is discrete value for the checking of levels of Heart Disease. So it is a Classification type."
   ]
  },
  {
   "cell_type": "markdown",
   "metadata": {},
   "source": [
    "# Finding Best Random State"
   ]
  },
  {
   "cell_type": "code",
   "execution_count": 688,
   "metadata": {},
   "outputs": [
    {
     "name": "stdout",
     "output_type": "stream",
     "text": [
      "Best random_state 124\n"
     ]
    }
   ],
   "source": [
    "from sklearn.model_selection import train_test_split, cross_val_score\n",
    "from sklearn.linear_model import LogisticRegression\n",
    "from sklearn.metrics import r2_score\n",
    "best_r_state=0\n",
    "accu=0\n",
    "\n",
    "for i in range(30,200):\n",
    "    train_x,test_x,train_y,test_y=train_test_split(pt_x,y,test_size=0.30,random_state=i)\n",
    "    mod=LogisticRegression()\n",
    "    mod.fit(train_x,train_y)\n",
    "    pred_y=mod.predict(test_x)\n",
    "    tempaccu=r2_score(test_y,pred_y)\n",
    "    if tempaccu>accu:\n",
    "        accu=tempaccu\n",
    "        best_r_state=i\n",
    "\n",
    "print(f\"Best random_state {best_r_state}\")"
   ]
  },
  {
   "cell_type": "markdown",
   "metadata": {},
   "source": [
    "# Linear Regression"
   ]
  },
  {
   "cell_type": "code",
   "execution_count": 697,
   "metadata": {
    "scrolled": false
   },
   "outputs": [
    {
     "name": "stdout",
     "output_type": "stream",
     "text": [
      "Accuracy Score of LogisticRegression() is 0.32727272727272727\n",
      "Confusion Matrix\n",
      " [[7 6 2 2 0]\n",
      " [6 6 1 0 0]\n",
      " [2 8 1 1 0]\n",
      " [0 4 1 4 0]\n",
      " [0 0 2 2 0]]\n",
      "Classification Report\n",
      "               precision    recall  f1-score   support\n",
      "\n",
      "           0       0.47      0.41      0.44        17\n",
      "           1       0.25      0.46      0.32        13\n",
      "           2       0.14      0.08      0.11        12\n",
      "           3       0.44      0.44      0.44         9\n",
      "           4       0.00      0.00      0.00         4\n",
      "\n",
      "    accuracy                           0.33        55\n",
      "   macro avg       0.26      0.28      0.26        55\n",
      "weighted avg       0.31      0.33      0.31        55\n",
      "\n",
      "*******************************************************************\n",
      "\n",
      "\n",
      "\n",
      "Accuracy Score of KNeighborsClassifier() is 0.36363636363636365\n",
      "Confusion Matrix\n",
      " [[8 6 1 2 0]\n",
      " [2 8 2 1 0]\n",
      " [1 3 3 5 0]\n",
      " [0 6 2 1 0]\n",
      " [0 1 2 1 0]]\n",
      "Classification Report\n",
      "               precision    recall  f1-score   support\n",
      "\n",
      "           0       0.73      0.47      0.57        17\n",
      "           1       0.33      0.62      0.43        13\n",
      "           2       0.30      0.25      0.27        12\n",
      "           3       0.10      0.11      0.11         9\n",
      "           4       0.00      0.00      0.00         4\n",
      "\n",
      "    accuracy                           0.36        55\n",
      "   macro avg       0.29      0.29      0.28        55\n",
      "weighted avg       0.39      0.36      0.36        55\n",
      "\n",
      "*******************************************************************\n",
      "\n",
      "\n",
      "\n",
      "Accuracy Score of DecisionTreeClassifier() is 0.2727272727272727\n",
      "Confusion Matrix\n",
      " [[6 7 1 1 2]\n",
      " [6 3 2 2 0]\n",
      " [0 6 3 3 0]\n",
      " [1 2 2 3 1]\n",
      " [0 1 1 2 0]]\n",
      "Classification Report\n",
      "               precision    recall  f1-score   support\n",
      "\n",
      "           0       0.46      0.35      0.40        17\n",
      "           1       0.16      0.23      0.19        13\n",
      "           2       0.33      0.25      0.29        12\n",
      "           3       0.27      0.33      0.30         9\n",
      "           4       0.00      0.00      0.00         4\n",
      "\n",
      "    accuracy                           0.27        55\n",
      "   macro avg       0.25      0.23      0.23        55\n",
      "weighted avg       0.30      0.27      0.28        55\n",
      "\n",
      "*******************************************************************\n",
      "\n",
      "\n",
      "\n",
      "Accuracy Score of SVC() is 0.41818181818181815\n",
      "Confusion Matrix\n",
      " [[ 8  6  1  2  0]\n",
      " [ 2 11  0  0  0]\n",
      " [ 0  5  2  5  0]\n",
      " [ 1  4  2  2  0]\n",
      " [ 0  0  3  1  0]]\n",
      "Classification Report\n",
      "               precision    recall  f1-score   support\n",
      "\n",
      "           0       0.73      0.47      0.57        17\n",
      "           1       0.42      0.85      0.56        13\n",
      "           2       0.25      0.17      0.20        12\n",
      "           3       0.20      0.22      0.21         9\n",
      "           4       0.00      0.00      0.00         4\n",
      "\n",
      "    accuracy                           0.42        55\n",
      "   macro avg       0.32      0.34      0.31        55\n",
      "weighted avg       0.41      0.42      0.39        55\n",
      "\n",
      "*******************************************************************\n",
      "\n",
      "\n",
      "\n",
      "Accuracy Score of RandomForestClassifier() is 0.21818181818181817\n",
      "Confusion Matrix\n",
      " [[ 4 10  1  2  0]\n",
      " [ 4  5  1  2  1]\n",
      " [ 1  6  1  4  0]\n",
      " [ 0  3  4  2  0]\n",
      " [ 0  0  2  2  0]]\n",
      "Classification Report\n",
      "               precision    recall  f1-score   support\n",
      "\n",
      "           0       0.44      0.24      0.31        17\n",
      "           1       0.21      0.38      0.27        13\n",
      "           2       0.11      0.08      0.10        12\n",
      "           3       0.17      0.22      0.19         9\n",
      "           4       0.00      0.00      0.00         4\n",
      "\n",
      "    accuracy                           0.22        55\n",
      "   macro avg       0.19      0.19      0.17        55\n",
      "weighted avg       0.24      0.22      0.21        55\n",
      "\n",
      "*******************************************************************\n",
      "\n",
      "\n",
      "\n",
      "Accuracy Score of AdaBoostClassifier() is 0.32727272727272727\n",
      "Confusion Matrix\n",
      " [[6 6 4 1 0]\n",
      " [5 6 2 0 0]\n",
      " [2 4 5 1 0]\n",
      " [0 1 7 1 0]\n",
      " [0 1 3 0 0]]\n",
      "Classification Report\n",
      "               precision    recall  f1-score   support\n",
      "\n",
      "           0       0.46      0.35      0.40        17\n",
      "           1       0.33      0.46      0.39        13\n",
      "           2       0.24      0.42      0.30        12\n",
      "           3       0.33      0.11      0.17         9\n",
      "           4       0.00      0.00      0.00         4\n",
      "\n",
      "    accuracy                           0.33        55\n",
      "   macro avg       0.27      0.27      0.25        55\n",
      "weighted avg       0.33      0.33      0.31        55\n",
      "\n",
      "*******************************************************************\n",
      "\n",
      "\n",
      "\n",
      "Accuracy Score of GradientBoostingClassifier() is 0.2545454545454545\n",
      "Confusion Matrix\n",
      " [[5 6 3 3 0]\n",
      " [4 3 3 1 2]\n",
      " [1 5 2 4 0]\n",
      " [0 3 2 4 0]\n",
      " [0 0 1 3 0]]\n",
      "Classification Report\n",
      "               precision    recall  f1-score   support\n",
      "\n",
      "           0       0.50      0.29      0.37        17\n",
      "           1       0.18      0.23      0.20        13\n",
      "           2       0.18      0.17      0.17        12\n",
      "           3       0.27      0.44      0.33         9\n",
      "           4       0.00      0.00      0.00         4\n",
      "\n",
      "    accuracy                           0.25        55\n",
      "   macro avg       0.22      0.23      0.22        55\n",
      "weighted avg       0.28      0.25      0.25        55\n",
      "\n",
      "*******************************************************************\n",
      "\n",
      "\n",
      "\n"
     ]
    }
   ],
   "source": [
    "from sklearn.linear_model import LogisticRegression\n",
    "from sklearn.neighbors import KNeighborsClassifier\n",
    "from sklearn.tree import DecisionTreeClassifier\n",
    "from sklearn.svm import SVC\n",
    "from sklearn.naive_bayes import MultinomialNB\n",
    "from sklearn.ensemble import RandomForestClassifier,AdaBoostClassifier,GradientBoostingClassifier\n",
    "from sklearn.metrics import accuracy_score,confusion_matrix,classification_report\n",
    "\n",
    "train_x,test_x,train_y,test_y=train_test_split(pt_x,y,test_size=0.30,random_state=124)\n",
    "modelclf=[LogisticRegression(),KNeighborsClassifier(),DecisionTreeClassifier(),SVC(),\n",
    "          RandomForestClassifier(),AdaBoostClassifier(),GradientBoostingClassifier()]\n",
    "\n",
    "for mc in modelclf:\n",
    "    mc.fit(train_x,train_y)\n",
    "    mc_y=mc.predict(test_x)\n",
    "    print(\"Accuracy Score of\",mc,\"is\",accuracy_score(test_y,mc_y))\n",
    "    print(\"Confusion Matrix\\n\",confusion_matrix(test_y,mc_y))\n",
    "    print(\"Classification Report\\n\", classification_report(test_y,mc_y))\n",
    "    print(\"*******************************************************************\")\n",
    "    print(\"\\n\\n\")"
   ]
  },
  {
   "cell_type": "markdown",
   "metadata": {},
   "source": [
    "41.82% is the highest accuracy score from SVC(). The model is very poor."
   ]
  },
  {
   "cell_type": "markdown",
   "metadata": {},
   "source": [
    "# MultinomialNB"
   ]
  },
  {
   "cell_type": "code",
   "execution_count": 699,
   "metadata": {},
   "outputs": [
    {
     "name": "stdout",
     "output_type": "stream",
     "text": [
      "Accuracy Score of MultinomialNB is 0.2\n",
      "Confusion Matrix\n",
      " [[1 3 4 9 0]\n",
      " [0 0 4 9 0]\n",
      " [1 1 3 7 0]\n",
      " [0 0 2 7 0]\n",
      " [0 0 0 4 0]]\n",
      "Classification Report\n",
      "               precision    recall  f1-score   support\n",
      "\n",
      "           0       0.50      0.06      0.11        17\n",
      "           1       0.00      0.00      0.00        13\n",
      "           2       0.23      0.25      0.24        12\n",
      "           3       0.19      0.78      0.31         9\n",
      "           4       0.00      0.00      0.00         4\n",
      "\n",
      "    accuracy                           0.20        55\n",
      "   macro avg       0.19      0.22      0.13        55\n",
      "weighted avg       0.24      0.20      0.14        55\n",
      "\n"
     ]
    }
   ],
   "source": [
    "x_train,x_test,y_train,y_test=train_test_split(x,y,test_size=0.3,random_state=124)\n",
    "mnb=MultinomialNB()\n",
    "mnb.fit(x_train,y_train)\n",
    "mnb_y=mnb.predict(x_test)\n",
    "\n",
    "print(\"Accuracy Score of MultinomialNB is\",accuracy_score(y_test,mnb_y))\n",
    "print(\"Confusion Matrix\\n\",confusion_matrix(y_test,mnb_y))\n",
    "print(\"Classification Report\\n\", classification_report(y_test,mnb_y))"
   ]
  },
  {
   "cell_type": "markdown",
   "metadata": {},
   "source": [
    "Only 20% Accuracy from MultinomialNB."
   ]
  },
  {
   "cell_type": "markdown",
   "metadata": {},
   "source": [
    "# GridSearchCV"
   ]
  },
  {
   "cell_type": "markdown",
   "metadata": {},
   "source": [
    "Hypertuning SVR using GridSearchCV."
   ]
  },
  {
   "cell_type": "code",
   "execution_count": 700,
   "metadata": {},
   "outputs": [
    {
     "data": {
      "text/plain": [
       "GridSearchCV(estimator=SVC(),\n",
       "             param_grid={'C': [1, 10], 'kernel': ['linear', 'rbf', 'poly']})"
      ]
     },
     "execution_count": 700,
     "metadata": {},
     "output_type": "execute_result"
    }
   ],
   "source": [
    "from sklearn.model_selection import GridSearchCV\n",
    "from sklearn.svm import SVC\n",
    "svc=SVC()\n",
    "parameters={'kernel':['linear','rbf','poly'],'C':[1,10]}\n",
    "clf=GridSearchCV(svc,parameters)\n",
    "clf.fit(pt_x,y)"
   ]
  },
  {
   "cell_type": "code",
   "execution_count": 701,
   "metadata": {},
   "outputs": [
    {
     "name": "stdout",
     "output_type": "stream",
     "text": [
      "{'C': 10, 'kernel': 'rbf'}\n"
     ]
    }
   ],
   "source": [
    "print(clf.best_params_)"
   ]
  },
  {
   "cell_type": "markdown",
   "metadata": {},
   "source": [
    "These are the parameters that will be fed to SVR to create a best model."
   ]
  },
  {
   "cell_type": "markdown",
   "metadata": {},
   "source": [
    "# Support Vector Machine"
   ]
  },
  {
   "cell_type": "code",
   "execution_count": 703,
   "metadata": {},
   "outputs": [
    {
     "name": "stdout",
     "output_type": "stream",
     "text": [
      "Accuracy Score of SVC is 0.34545454545454546\n",
      "Confusion Matrix\n",
      " [[8 5 2 2 0]\n",
      " [2 8 0 2 1]\n",
      " [0 6 2 4 0]\n",
      " [1 5 2 1 0]\n",
      " [0 1 2 1 0]]\n",
      "Classification Report\n",
      "               precision    recall  f1-score   support\n",
      "\n",
      "           0       0.73      0.47      0.57        17\n",
      "           1       0.32      0.62      0.42        13\n",
      "           2       0.25      0.17      0.20        12\n",
      "           3       0.10      0.11      0.11         9\n",
      "           4       0.00      0.00      0.00         4\n",
      "\n",
      "    accuracy                           0.35        55\n",
      "   macro avg       0.28      0.27      0.26        55\n",
      "weighted avg       0.37      0.35      0.34        55\n",
      "\n"
     ]
    }
   ],
   "source": [
    "svr=SVC(kernel='rbf',C=10) #parameters given from GridSearchCV method.\n",
    "svr.fit(train_x,train_y)\n",
    "svr.score(train_x,train_y)\n",
    "svr_y=svr.predict(test_x)\n",
    "\n",
    "print(\"Accuracy Score of SVC is\",accuracy_score(test_y,svr_y))\n",
    "print(\"Confusion Matrix\\n\",confusion_matrix(test_y,svr_y))\n",
    "print(\"Classification Report\\n\", classification_report(test_y,svr_y))"
   ]
  },
  {
   "cell_type": "markdown",
   "metadata": {},
   "source": [
    "34.54% Accuracy of SVC after Hypertuning. Accuracy decreased."
   ]
  },
  {
   "cell_type": "markdown",
   "metadata": {},
   "source": [
    "# CROSS VALIDATION"
   ]
  },
  {
   "cell_type": "code",
   "execution_count": 704,
   "metadata": {},
   "outputs": [
    {
     "name": "stdout",
     "output_type": "stream",
     "text": [
      "Scores of LogisticRegression() is [0.32432432 0.33333333 0.33333333 0.47222222 0.25      ]\n",
      "Mean Score of LogisticRegression() is 0.3426426426426426 \n",
      "Standard Deviation is 0.07194777820819348\n",
      "****************************************************************************\n",
      "\n",
      "\n",
      "Scores of KNeighborsClassifier() is [0.43243243 0.38888889 0.33333333 0.30555556 0.36111111]\n",
      "Mean Score of KNeighborsClassifier() is 0.3642642642642643 \n",
      "Standard Deviation is 0.043969645508265355\n",
      "****************************************************************************\n",
      "\n",
      "\n",
      "Scores of DecisionTreeClassifier() is [0.21621622 0.30555556 0.33333333 0.33333333 0.27777778]\n",
      "Mean Score of DecisionTreeClassifier() is 0.29324324324324325 \n",
      "Standard Deviation is 0.043676921127810395\n",
      "****************************************************************************\n",
      "\n",
      "\n",
      "Scores of SVC() is [0.40540541 0.38888889 0.30555556 0.44444444 0.33333333]\n",
      "Mean Score of SVC() is 0.37552552552552554 \n",
      "Standard Deviation is 0.0499943634153916\n",
      "****************************************************************************\n",
      "\n",
      "\n",
      "Scores of RandomForestClassifier() is [0.40540541 0.38888889 0.25       0.30555556 0.36111111]\n",
      "Mean Score of RandomForestClassifier() is 0.3421921921921922 \n",
      "Standard Deviation is 0.05722946923645215\n",
      "****************************************************************************\n",
      "\n",
      "\n",
      "Scores of AdaBoostClassifier() is [0.24324324 0.38888889 0.22222222 0.44444444 0.25      ]\n",
      "Mean Score of AdaBoostClassifier() is 0.3097597597597598 \n",
      "Standard Deviation is 0.08950964160303551\n",
      "****************************************************************************\n",
      "\n",
      "\n",
      "Scores of GradientBoostingClassifier() is [0.27027027 0.36111111 0.30555556 0.38888889 0.36111111]\n",
      "Mean Score of GradientBoostingClassifier() is 0.3373873873873874 \n",
      "Standard Deviation is 0.04311845943312711\n",
      "****************************************************************************\n",
      "\n",
      "\n"
     ]
    }
   ],
   "source": [
    "from sklearn.model_selection import cross_val_score\n",
    "for m in modelclf:\n",
    "    mscores=cross_val_score(m,pt_x,y,cv=5)\n",
    "    print(\"Scores of\",m,\"is\",mscores)\n",
    "    print(\"Mean Score of\",m,\"is\",mscores.mean(),\"\\nStandard Deviation is\",mscores.std())\n",
    "    print(\"****************************************************************************\\n\\n\")"
   ]
  },
  {
   "cell_type": "markdown",
   "metadata": {},
   "source": [
    "# Conclusion"
   ]
  },
  {
   "cell_type": "markdown",
   "metadata": {},
   "source": [
    "SVC is the best model having accuracy of 41.82%."
   ]
  },
  {
   "cell_type": "code",
   "execution_count": 708,
   "metadata": {},
   "outputs": [
    {
     "name": "stdout",
     "output_type": "stream",
     "text": [
      "Accuracy Score of SVC is 0.41818181818181815\n",
      "Confusion Matrix\n",
      " [[ 8  6  1  2  0]\n",
      " [ 2 11  0  0  0]\n",
      " [ 0  5  2  5  0]\n",
      " [ 1  4  2  2  0]\n",
      " [ 0  0  3  1  0]]\n",
      "Classification Report\n",
      "               precision    recall  f1-score   support\n",
      "\n",
      "           0       0.73      0.47      0.57        17\n",
      "           1       0.42      0.85      0.56        13\n",
      "           2       0.25      0.17      0.20        12\n",
      "           3       0.20      0.22      0.21         9\n",
      "           4       0.00      0.00      0.00         4\n",
      "\n",
      "    accuracy                           0.42        55\n",
      "   macro avg       0.32      0.34      0.31        55\n",
      "weighted avg       0.41      0.42      0.39        55\n",
      "\n"
     ]
    }
   ],
   "source": [
    "svc=SVC()\n",
    "svc.fit(train_x,train_y)\n",
    "svc_y=svc.predict(test_x)\n",
    "\n",
    "print(\"Accuracy Score of SVC is\",accuracy_score(test_y,svc_y))\n",
    "print(\"Confusion Matrix\\n\",confusion_matrix(test_y,svc_y))\n",
    "print(\"Classification Report\\n\", classification_report(test_y,svc_y))"
   ]
  },
  {
   "cell_type": "markdown",
   "metadata": {},
   "source": [
    "# Saving the Model"
   ]
  },
  {
   "cell_type": "code",
   "execution_count": 712,
   "metadata": {},
   "outputs": [
    {
     "data": {
      "text/plain": [
       "array([1, 1, 1, 2, 1, 1, 1, 1, 1, 1, 0, 0, 0, 1, 1, 0, 2, 2, 3, 1, 2, 1,\n",
       "       3, 0, 2, 2, 0, 3, 0, 1, 3, 3, 1, 1, 1, 3, 1, 3, 1, 1, 2, 1, 1, 1,\n",
       "       3, 1, 0, 1, 3, 0, 3, 0, 1, 2, 0], dtype=int64)"
      ]
     },
     "execution_count": 712,
     "metadata": {},
     "output_type": "execute_result"
    }
   ],
   "source": [
    "import pickle\n",
    "\n",
    "filename='Heart_Disease_svc.pkl'\n",
    "pickle.dump(svc,open(filename,'wb'))\n",
    "\n",
    "loaded_model=pickle.load(open(filename,'rb'))\n",
    "\n",
    "loaded_model.predict(test_x)"
   ]
  },
  {
   "cell_type": "code",
   "execution_count": null,
   "metadata": {},
   "outputs": [],
   "source": []
  }
 ],
 "metadata": {
  "kernelspec": {
   "display_name": "Python 3",
   "language": "python",
   "name": "python3"
  },
  "language_info": {
   "codemirror_mode": {
    "name": "ipython",
    "version": 3
   },
   "file_extension": ".py",
   "mimetype": "text/x-python",
   "name": "python",
   "nbconvert_exporter": "python",
   "pygments_lexer": "ipython3",
   "version": "3.8.3"
  }
 },
 "nbformat": 4,
 "nbformat_minor": 4
}
